{
 "cells": [
  {
   "cell_type": "code",
   "execution_count": null,
   "metadata": {},
   "outputs": [],
   "source": [
    "# TASK-1\n",
    "def even_checker(num):\n",
    "    if num%2 == 0:\n",
    "        print (\"Even!!\")\n",
    "    if num%2 != 0:\n",
    "        print (\"Odd!!\")\n",
    "\n",
    "usr_input = int(input(\"Enter a number: \"))\n",
    "even_checker(usr_input)"
   ]
  },
  {
   "cell_type": "code",
   "execution_count": null,
   "metadata": {},
   "outputs": [],
   "source": [
    "# TASK-2\n",
    "def fibonacci(num):\n",
    "    a = 0\n",
    "    b = 1\n",
    "    if num < 0:\n",
    "        print (\"Enter a positive number\")\n",
    "    else:\n",
    "        print (a, end = ' ')\n",
    "        print (b, end = ' ')\n",
    "        for x in range (2, num + 1):\n",
    "            c = a + b\n",
    "            a = b\n",
    "            b = c\n",
    "            print (c, end = ' ')\n",
    "\n",
    "num = int(input(\"Enter a number: \"))\n",
    "fibonacci (num)"
   ]
  },
  {
   "cell_type": "code",
   "execution_count": null,
   "metadata": {},
   "outputs": [],
   "source": [
    "# TASK-3\n",
    "def foo_moo(num):\n",
    "    if num % 2 == 0 and num % 3 == 0:\n",
    "        output = \"FooMoo\"\n",
    "    elif num % 2 == 0:\n",
    "        output = \"Foo\"\n",
    "    elif num % 3 == 0:\n",
    "        output = \"Moo\"\n",
    "    else:\n",
    "        output = \"Boo\"\n",
    "    return output\n",
    "\n",
    "usr_input = int(input(\"Enter a number: \"))\n",
    "print(foo_moo(usr_input))"
   ]
  },
  {
   "cell_type": "code",
   "execution_count": null,
   "metadata": {},
   "outputs": [],
   "source": [
    "# TASK-4\n",
    "def capital_checker(text):\n",
    "    text = text.replace(' ', '')\n",
    "    caps = 0\n",
    "    lowercase = 0\n",
    "    for x in range (0, len(text)):\n",
    "        if ord(text[x]) >= 65 and ord(text[x]) <= 90:\n",
    "            caps = caps + 1\n",
    "        elif ord(text[x]) >= 97 and ord(text[x]) <= 122:\n",
    "            lowercase = lowercase + 1\n",
    "    print (\"No. of Uppercase characters:\", caps)\n",
    "    print (\"No. of Lowercase characters:\", lowercase)\n",
    "\n",
    "usr_input = str(input(\"Enter a sentence: \"))\n",
    "capital_checker(usr_input)\n"
   ]
  },
  {
   "cell_type": "code",
   "execution_count": null,
   "metadata": {},
   "outputs": [],
   "source": [
    "# TASK-5\n",
    "def calculate_tax(age, salary, job_designation):\n",
    "    if age < 18 or job_designation == 'president' or job_designation == 'President':\n",
    "        return 0\n",
    "    else:\n",
    "        if salary < 10000 and salary > 0:\n",
    "            print (0)\n",
    "        elif salary >= 10000 and salary <= 20000:\n",
    "            print (salary*5/100)\n",
    "        elif salary > 20000:\n",
    "            print (salary/10)\n",
    "\n",
    "age_input = int(input(\"Enter your age: \"))\n",
    "salary_input = int(input(\"Enter your salary: \"))\n",
    "j_designation_input = str(input(\"Enter your job designation: \"))\n",
    "\n",
    "calculate_tax(age_input, salary_input, j_designation_input)"
   ]
  },
  {
   "cell_type": "code",
   "execution_count": null,
   "metadata": {},
   "outputs": [],
   "source": [
    "# TASK-6\n",
    "def calculate_days(days):\n",
    "    years = days//365\n",
    "    days = days % 365\n",
    "    months = days // 30\n",
    "    days = days % 30\n",
    "    print (years, \"years,\", months,\"months,\",days,\"days\")\n",
    "\n",
    "usr_input = int(input(\"Enter how many days to convert: \"))\n",
    "calculate_days(usr_input)"
   ]
  },
  {
   "cell_type": "code",
   "execution_count": null,
   "metadata": {},
   "outputs": [],
   "source": [
    "# TASK-7\n",
    "def show_palindrome(num):\n",
    "    count = 0\n",
    "    list1 = []\n",
    "    for x in range(num):\n",
    "        count = count + 1\n",
    "        list1.append(count)\n",
    "    for x in range(num - 1):\n",
    "        count = count - 1\n",
    "        list1.append (count)\n",
    "    for x in list1:\n",
    "        print (x, end = \"\")  \n",
    "\n",
    "usr_input = int(input(\"Enter a number: \"))\n",
    "show_palindrome(usr_input)"
   ]
  },
  {
   "cell_type": "code",
   "execution_count": null,
   "metadata": {},
   "outputs": [],
   "source": [
    "# TASK-8\n",
    "def show_palindromic_triangle(num):\n",
    "    space = num\n",
    "    for i in range(1, num+1):\n",
    "        print (\"  \"*(space-1), end = '')\n",
    "        space = space - 1\n",
    "        for k in range(1, i+1):\n",
    "            print(k, end = \" \")\n",
    "\n",
    "        for l in range(i-1, 0, -1):\n",
    "            print(l , end = \" \")\n",
    "        print()\n",
    "  \n",
    "usr_input = int(input(\"Enter a number: \"))\n",
    "show_palindromic_triangle(usr_input)"
   ]
  },
  {
   "cell_type": "code",
   "execution_count": null,
   "metadata": {},
   "outputs": [],
   "source": [
    "# TASK-9\n",
    "from math import pi\n",
    "def area_circumference_generator (radius):\n",
    "    list1 = []\n",
    "    area = [pi*(radius**2)]\n",
    "    circum = [2*pi*radius]\n",
    "    list1 = tuple(area + circum)\n",
    "    a, b = list1\n",
    "    print (list1)\n",
    "    print (\"Area of the circle is\", a, \"and circumference is\", b)\n",
    "\n",
    "usr_input = float(input(\"Enter radius of circle: \"))\n",
    "area_circumference_generator (usr_input)"
   ]
  },
  {
   "cell_type": "code",
   "execution_count": null,
   "metadata": {},
   "outputs": [],
   "source": [
    "# TASK-10\n",
    "def make_square(tuple1):\n",
    "    dict1 = {}\n",
    "    for x in range(tuple1[0], tuple1[1]+1):\n",
    "        dict1.update({x:x**2})\n",
    "    print (dict1)\n",
    "\n",
    "usr_input = str(input(\"Enter a tuple: \"))\n",
    "usr_input = list(usr_input[1:-1].replace(' ', '').split(','))\n",
    "\n",
    "for x in range(0, len(usr_input)):\n",
    "    usr_input[x] = int(usr_input[x])\n",
    "\n",
    "if len(usr_input) > 2 or len(usr_input) < 2:\n",
    "    print (\"Enter a valid range\")\n",
    "elif len(usr_input) == 2:\n",
    "    make_square(usr_input)"
   ]
  },
  {
   "cell_type": "code",
   "execution_count": null,
   "metadata": {},
   "outputs": [],
   "source": [
    "# TASK-11\n",
    "def rem_duplicate(tuple1):\n",
    "    list1 = []\n",
    "    for x in tuple1:\n",
    "        if x not in list1:\n",
    "            list1.append(x)\n",
    "    print (tuple(list1))\n",
    "\n",
    "rem_duplicate ()"
   ]
  },
  {
   "cell_type": "code",
   "execution_count": null,
   "metadata": {},
   "outputs": [],
   "source": [
    "# TASK-12\n",
    "def list_append (list1):\n",
    "    list1_copy = list1.copy()\n",
    "    list2 = []\n",
    "    for x in list1:\n",
    "        if x not in list2 and list2.count(x) < 2:\n",
    "            list2.append(x)\n",
    "        elif x in list2 and list2.count(x) < 2:\n",
    "            list2.append(x)\n",
    "    print (\"Removed:\", len(list1_copy) - len(list2))\n",
    "    print (list2)\n",
    "\n",
    "list_append ([10, 10, 15, 15, 20])"
   ]
  },
  {
   "cell_type": "code",
   "execution_count": null,
   "metadata": {},
   "outputs": [],
   "source": [
    "# TASK-13\n",
    "def calculate(operator, num1, num2):\n",
    "    if operator == \"+\":\n",
    "        print (float(num1 + num2))\n",
    "    elif operator == \"-\":\n",
    "        print (float(num1 - num2))\n",
    "    elif operator == \"*\":\n",
    "        print (float(num1 * num2))\n",
    "    elif operator == \"/\":\n",
    "        print (num1/num2)\n",
    "    else:\n",
    "        print (\"Enter a valid input\")\n",
    "\n",
    "calculate (\"*\", 10, 20)"
   ]
  },
  {
   "cell_type": "code",
   "execution_count": null,
   "metadata": {},
   "outputs": [],
   "source": [
    "# TASK-14\n",
    "def remove_alpha(text, idx):\n",
    "    new_str = ''\n",
    "    extra_str = ''\n",
    "    for x in range (0, len(text)):\n",
    "        if x == 0:\n",
    "            new_str = new_str + text[x]\n",
    "        elif x % idx == 0:\n",
    "            extra_str = extra_str + text[x]\n",
    "        elif x % idx != 0:\n",
    "            new_str = new_str + text[x] \n",
    "    print (new_str + extra_str)\n",
    "\n",
    "usr_input = str(input(\"Enter a text: \"))\n",
    "ind = int(input(\"Enter which index to remove: \"))\n",
    "remove_alpha(usr_input, ind)"
   ]
  },
  {
   "cell_type": "code",
   "execution_count": null,
   "metadata": {},
   "outputs": [],
   "source": [
    "# TASK-15\n",
    "def app (list1, loc='dhanmondi'):\n",
    "    dict1 = {'rice':105, 'potato':20, 'chicken':250, 'beef':510, 'oil':85}\n",
    "    total = 0\n",
    "    for x in list1:\n",
    "        if x.lower() in dict1:\n",
    "            total = total + dict1[x.lower()]\n",
    "    if loc.lower() == 'dhanmondi':\n",
    "        total = total + 30\n",
    "    else:\n",
    "        total = total + 70\n",
    "    print (total)\n",
    "\n",
    "app ([\"rice\", \"Beef\", \"Rice\"])"
   ]
  }
 ],
 "metadata": {
  "interpreter": {
   "hash": "0b73d936001d13f91a42d50642336e87c0ba66489d44e4e20dea610a6cb1ebd7"
  },
  "kernelspec": {
   "display_name": "Python 3.9.0 64-bit",
   "language": "python",
   "name": "python3"
  },
  "language_info": {
   "codemirror_mode": {
    "name": "ipython",
    "version": 3
   },
   "file_extension": ".py",
   "mimetype": "text/x-python",
   "name": "python",
   "nbconvert_exporter": "python",
   "pygments_lexer": "ipython3",
   "version": "3.9.0"
  },
  "orig_nbformat": 4
 },
 "nbformat": 4,
 "nbformat_minor": 2
}
