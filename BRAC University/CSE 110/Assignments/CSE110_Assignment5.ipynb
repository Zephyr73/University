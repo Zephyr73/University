{
 "cells": [
  {
   "cell_type": "code",
   "execution_count": null,
   "metadata": {},
   "outputs": [],
   "source": [
    "# TASK 1\n",
    "a_tuple = (\"The Institute\", (\"Best Mystery & Thriller\", \"The Silent Patient\", 68821), 75717,[1, 2, 3, 400, 5, 6, 7], (\"Best Fiction\", \"The Testaments\", 98291))\n",
    "print (a_tuple[3][3])"
   ]
  },
  {
   "cell_type": "code",
   "execution_count": null,
   "metadata": {},
   "outputs": [],
   "source": [
    "# TASK 2\n",
    "tuple1 = (10, 20, 24, 25, 26, 35, 70)\n",
    "print (tuple1[2:-2])"
   ]
  },
  {
   "cell_type": "code",
   "execution_count": null,
   "metadata": {},
   "outputs": [],
   "source": [
    "# TASK 3\n",
    "book_info = (\n",
    "(\"Best Mystery & Thriller\",\"The Silent Patient\",68,821),\n",
    "(\"Best Horror\",\"The Institute\",75,717),\n",
    "(\"Best History & Biography\",\"The five\",31,783 ),\n",
    "(\"Best Fiction\",\"The Testaments\",98,291)\n",
    ")\n",
    "\n",
    "print (\"Size of the tuple is:\", len(book_info))\n",
    "\n",
    "for x in book_info:\n",
    "    print (x)"
   ]
  },
  {
   "cell_type": "code",
   "execution_count": null,
   "metadata": {},
   "outputs": [],
   "source": [
    "# TASK 4\n",
    "book_info = (\n",
    "(\"Best Mystery & Thriller\",\"The Silent Patient\",68821),\n",
    "(\"Best Horror\",\"The Institute\",75717),\n",
    "(\"Best History & Biography\",\"The five\",31783 ),\n",
    "(\"Best Fiction\",\"The Testaments\",98291)\n",
    ")\n",
    "\n",
    "a, b, c, d = book_info\n",
    "\n",
    "print (a[1], \"won the\", \"'\"+a[0]+\"'\", \"category with\", a[2], \"votes\")\n",
    "print (b[1], \"won the\", \"'\"+b[0]+\"'\", \"category with\", b[2], \"votes\")\n",
    "print (c[1], \"won the\", \"'\"+c[0]+\"'\", \"category with\", c[2], \"votes\")\n",
    "print (d[1], \"won the\", \"'\"+d[0]+\"'\", \"category with\", d[2], \"votes\")\n"
   ]
  },
  {
   "cell_type": "code",
   "execution_count": null,
   "metadata": {},
   "outputs": [],
   "source": [
    "# TASK 5\n",
    "tuple1 = (10, 8, 5, 2, 10, 15, 10, 8, 5, 8, 8, 2)\n",
    "count = 0\n",
    "\n",
    "usr_input = int(input(\"Enter which number to search: \"))\n",
    "\n",
    "for x in tuple1:\n",
    "    if x == usr_input:\n",
    "        count = count + 1\n",
    "        \n",
    "print (inp, \"appears\", count, \"times in the tuple\")"
   ]
  },
  {
   "cell_type": "code",
   "execution_count": null,
   "metadata": {},
   "outputs": [],
   "source": [
    "# TASK 6\n",
    "tuple1 = ('a', 'b', 'c', 'd', 'e', 'f', 'g', 'h')\n",
    "list1 = list(tuple1)[::-1]\n",
    "tuple1 = tuple(list1)\n",
    "\n",
    "print (tuple1)"
   ]
  },
  {
   "cell_type": "code",
   "execution_count": null,
   "metadata": {},
   "outputs": [],
   "source": [
    "# TASK 7\n",
    "dict1 = {'Harry':15, 'Draco':8, 'Nevil':19}\n",
    "dict2 = {'Ginie':18, 'Luna': 14}\n",
    "dict3 = {}\n",
    "\n",
    "for x in dict1:\n",
    "    if x not in dict3:\n",
    "        dict3.update({x:dict1[x]})\n",
    "\n",
    "for y in dict2:\n",
    "    if y not in dict3:\n",
    "        dict3.update({y:dict2[y]})\n",
    "\n",
    "print (dict3)"
   ]
  },
  {
   "cell_type": "code",
   "execution_count": null,
   "metadata": {},
   "outputs": [],
   "source": [
    "# TASK 8\n",
    "dict1 = {}\n",
    "total = 0\n",
    "elem = 0\n",
    "\n",
    "usr_input = input(\"Enter a dictionary: \")\n",
    "usr_input = usr_input[1:-1].replace(' ', '')\n",
    "list1 = usr_input.split(\",\")\n",
    "\n",
    "for x in list1:\n",
    "    counter = 0\n",
    "    key = ''\n",
    "    value = 0\n",
    "\n",
    "    for y in x:\n",
    "        counter = counter + 1\n",
    "\n",
    "    for y in range (0, counter):\n",
    "        if x[y] != \":\":\n",
    "            key = key + x[y]\n",
    "        elif x[y] == \":\":\n",
    "            value = int(x[y+1::])\n",
    "            break\n",
    "\n",
    "    dict1.update({key:value})\n",
    "\n",
    "for x in dict1:\n",
    "    total = total + dict1[x]\n",
    "    elem = elem + 1\n",
    "\n",
    "print (\"Average is\", str(total/elem)+\".\")"
   ]
  },
  {
   "cell_type": "code",
   "execution_count": null,
   "metadata": {},
   "outputs": [],
   "source": [
    "# TASK 9\n",
    "exam_marks = {'Cierra Vega': 175, 'Alden Cantrell': 200, 'Kierra Gentry': 165, 'Pierre Cox': 190}\n",
    "new_dict = {}\n",
    "\n",
    "usr_input = int(input(\"Enter a number: \"))\n",
    "\n",
    "for x in exam_marks:\n",
    "    if exam_marks[x] >= usr_input:\n",
    "        new_dict.update({x:exam_marks[x]})\n",
    "\n",
    "print (new_dict)"
   ]
  },
  {
   "cell_type": "code",
   "execution_count": null,
   "metadata": {},
   "outputs": [],
   "source": [
    "# TASK 10\n",
    "dict1 = {'sci fi': 5, 'mystery': 3, 'horror': 14, 'young_adult': 2, 'adventure':9}\n",
    "highest = 0\n",
    "\n",
    "for x in dict1:\n",
    "    if dict1[x] > highest:\n",
    "        highest = dict1[x]\n",
    "        name = x\n",
    "\n",
    "print(\"The highest selling book genre is\", \"'\"+name+\"'\", \"and the number of books sold are\", str(highest)+\".\")"
   ]
  },
  {
   "cell_type": "code",
   "execution_count": null,
   "metadata": {},
   "outputs": [],
   "source": [
    "# TASK 11\n",
    "usr_input = input(\"Enter a sentence: \")\n",
    "usr_input = usr_input[1:-1].lower()\n",
    "dict1 = {}\n",
    "\n",
    "for x in usr_input:\n",
    "    if x not in dict1 and x != \" \":\n",
    "        dict1.update({x:1})\n",
    "    elif x in dict1 and x != \" \":\n",
    "        dict1[x] = dict1[x] + 1\n",
    "\n",
    "print (dict1)"
   ]
  },
  {
   "cell_type": "code",
   "execution_count": null,
   "metadata": {},
   "outputs": [],
   "source": [
    "# TASK 12\n",
    "dict1 = {'A': [1, 2, 3], 'b': ['1', '2'], \"c\": [4, 5, 6, 7]}\n",
    "count = 0\n",
    "for x in dict1:\n",
    "    for y in dict1[x]:\n",
    "        count = count + 1\n",
    "\n",
    "print (count)"
   ]
  },
  {
   "cell_type": "code",
   "execution_count": null,
   "metadata": {},
   "outputs": [],
   "source": [
    "# TASK 13\n",
    "list1 = [(\"a\", 1), (\"b\", 2), (\"a\", 3), (\"b\", 1), (\"a\", 2), (\"c\", 1)]\n",
    "dict1 = {}\n",
    "\n",
    "for x in list1:\n",
    "    if x[0] not in dict1:\n",
    "        dict1.update({x[0]:[x[1]]})\n",
    "    elif x[0] in dict1:\n",
    "        dict1[x[0]].append(x[1])\n",
    "        \n",
    "print (dict1)"
   ]
  },
  {
   "cell_type": "code",
   "execution_count": null,
   "metadata": {},
   "outputs": [],
   "source": [
    "# TASK 20\n",
    "list1 = [(2, 3), (4, 5), (6, 7), (2, 8)]\n",
    "\n",
    "for x in range (0, len(list1)):\n",
    "    list1[x] = list1[x][0] * list1[x][1]\n",
    "\n",
    "print (list1)"
   ]
  },
  {
   "cell_type": "code",
   "execution_count": null,
   "metadata": {},
   "outputs": [],
   "source": [
    "# TASK 21\n",
    "tuple1 = ([1, 2, 3], [4, 5, 6], [7, 8, 9], [10, 11, 12])\n",
    "usr_input = input(\"Enter a text: \")\n",
    "\n",
    "for x in tuple1:\n",
    "    for y in range (0, len(x)):\n",
    "        if y == len(x) - 1:\n",
    "            x[y] = usr_input\n",
    "print (tuple1)"
   ]
  },
  {
   "cell_type": "code",
   "execution_count": null,
   "metadata": {},
   "outputs": [],
   "source": [
    "# TASK 22\n",
    "dict1 = {'c1':'Red', 'c2':'Green', 'c3':None, 'd4':'Blue', 'a5':None}\n",
    "for key, value in list(dict1.items()):\n",
    "    if value is None:\n",
    "        del dict1[key]\n",
    "print (dict1)"
   ]
  },
  {
   "cell_type": "code",
   "execution_count": null,
   "metadata": {},
   "outputs": [],
   "source": [
    "# TASK 23\n",
    "dict1 = {'a' : 6, 'b' : 7, 'c' : 9, 'd' : 8, 'e' : 11, 'f' : 12, 'g' : 13} \n",
    "\n",
    "range1 = int(input(\"Enter lower range: \"))\n",
    "range2 = int(input(\"Enter upper range: \"))\n",
    "\n",
    "for key, value in list(dict1.items()):\n",
    "    if value < range1 or value >= range2:\n",
    "        del dict1[key]\n",
    "print (dict1)"
   ]
  }
 ],
 "metadata": {
  "interpreter": {
   "hash": "0b73d936001d13f91a42d50642336e87c0ba66489d44e4e20dea610a6cb1ebd7"
  },
  "kernelspec": {
   "display_name": "Python 3.9.0 64-bit",
   "language": "python",
   "name": "python3"
  },
  "language_info": {
   "codemirror_mode": {
    "name": "ipython",
    "version": 3
   },
   "file_extension": ".py",
   "mimetype": "text/x-python",
   "name": "python",
   "nbconvert_exporter": "python",
   "pygments_lexer": "ipython3",
   "version": "3.9.0"
  },
  "orig_nbformat": 4
 },
 "nbformat": 4,
 "nbformat_minor": 2
}
