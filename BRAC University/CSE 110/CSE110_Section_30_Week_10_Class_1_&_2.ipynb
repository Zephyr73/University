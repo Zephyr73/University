{
  "nbformat": 4,
  "nbformat_minor": 0,
  "metadata": {
    "colab": {
      "name": "CSE110_Section-30_Week-10_Class-1 & 2.ipynb",
      "provenance": [],
      "collapsed_sections": []
    },
    "kernelspec": {
      "name": "python3",
      "display_name": "Python 3"
    },
    "language_info": {
      "name": "python"
    }
  },
  "cells": [
    {
      "cell_type": "markdown",
      "source": [
        "Sorting"
      ],
      "metadata": {
        "id": "_1xnZL84kgdF"
      }
    },
    {
      "cell_type": "code",
      "execution_count": null,
      "metadata": {
        "id": "Ua4MxSlAkYhV"
      },
      "outputs": [],
      "source": [
        "#What is sorting?\n",
        "#numerical order and lexicographical order\n",
        "#Why do we need it?\n",
        "#It is easier and faster to locate items in a sorted list than unsorted"
      ]
    },
    {
      "cell_type": "markdown",
      "source": [
        "Built in functions for sorting"
      ],
      "metadata": {
        "id": "bGs_MePSlXU8"
      }
    },
    {
      "cell_type": "code",
      "source": [
        "#sorted(iterable, key=key, reverse=reverse)\n",
        "#list\n",
        "#tuple\n",
        "#dictionary"
      ],
      "metadata": {
        "id": "kzIZt95GlgAk"
      },
      "execution_count": null,
      "outputs": []
    },
    {
      "cell_type": "code",
      "source": [
        "list1=[23,45,67,89,3,4,1,55]\n",
        "list2=['cse','eee','mat','eng','phy']\n",
        "list_1=sorted(list1)\n",
        "print(list1)\n",
        "print(list_1)\n",
        "\n",
        "list_2=sorted(list2)\n",
        "print(list2)\n",
        "print(list_2)"
      ],
      "metadata": {
        "id": "aFkz6gMFnREf",
        "colab": {
          "base_uri": "https://localhost:8080/"
        },
        "outputId": "4af66429-1749-4786-e343-6b4c71e7b464"
      },
      "execution_count": null,
      "outputs": [
        {
          "output_type": "stream",
          "name": "stdout",
          "text": [
            "[23, 45, 67, 89, 3, 4, 1, 55]\n",
            "[1, 3, 4, 23, 45, 55, 67, 89]\n",
            "['cse', 'eee', 'mat', 'eng', 'phy']\n",
            "['cse', 'eee', 'eng', 'mat', 'phy']\n"
          ]
        }
      ]
    },
    {
      "cell_type": "code",
      "source": [
        "tuple1=(789,405,65,12,33,14,81,99)\n",
        "tuple2=('sat','sun','mon','tue','wed')"
      ],
      "metadata": {
        "id": "rKmFddYNnUzR"
      },
      "execution_count": null,
      "outputs": []
    },
    {
      "cell_type": "code",
      "source": [
        "dict1={122:'CSE',455:'PHY',20:'MAT',45:'ENG'}\n",
        "dict2={'PHY':42,'CSE':49,'MAT':34,'ENG':47}\n",
        "dict_1=sorted(dict1)\n",
        "print(dict_1)\n",
        "dict_2=sorted(dict2)\n",
        "print(dict_2)\n",
        "print(dict1)"
      ],
      "metadata": {
        "id": "WhsMiFoBlpV1",
        "colab": {
          "base_uri": "https://localhost:8080/"
        },
        "outputId": "5526ab22-51d9-4943-93f7-ee1f210a97de"
      },
      "execution_count": null,
      "outputs": [
        {
          "output_type": "stream",
          "name": "stdout",
          "text": [
            "[20, 45, 122, 455]\n",
            "['CSE', 'ENG', 'MAT', 'PHY']\n",
            "{122: 'CSE', 455: 'PHY', 20: 'MAT', 45: 'ENG'}\n"
          ]
        }
      ]
    },
    {
      "cell_type": "code",
      "source": [
        "#sort(reverse=True|False, key=key)\n",
        "list1=[23,45,67,89,3,4,1,55]\n",
        "list1.sort()\n",
        "print(list1)"
      ],
      "metadata": {
        "id": "CKIK3kWBn9HG",
        "colab": {
          "base_uri": "https://localhost:8080/"
        },
        "outputId": "265c9cd5-f7b3-405b-f013-0346f71e7a9c"
      },
      "execution_count": null,
      "outputs": [
        {
          "output_type": "stream",
          "name": "stdout",
          "text": [
            "[1, 3, 4, 23, 45, 55, 67, 89]\n"
          ]
        }
      ]
    },
    {
      "cell_type": "code",
      "source": [
        "[(3,4),(1,2),(5,5)]"
      ],
      "metadata": {
        "id": "Wc24ffMR0V7N"
      },
      "execution_count": null,
      "outputs": []
    },
    {
      "cell_type": "markdown",
      "source": [
        "**Competitive programming**:\n",
        "\n",
        "1. HackerRank: https://www.hackerrank.com/dashboard\n",
        "2. beecrowd (previously known as URI Online Judge): https://www.beecrowd.com.br/judge/en"
      ],
      "metadata": {
        "id": "IMQmW1PT6uUG"
      }
    },
    {
      "cell_type": "code",
      "source": [
        ""
      ],
      "metadata": {
        "id": "NG2BlJFQufLC"
      },
      "execution_count": null,
      "outputs": []
    }
  ]
}