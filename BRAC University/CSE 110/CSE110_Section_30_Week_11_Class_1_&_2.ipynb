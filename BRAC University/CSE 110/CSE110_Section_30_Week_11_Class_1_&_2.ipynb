{
 "cells": [
  {
   "cell_type": "markdown",
   "metadata": {
    "id": "_1xnZL84kgdF"
   },
   "source": [
    "Sorting"
   ]
  },
  {
   "cell_type": "code",
   "execution_count": null,
   "metadata": {
    "id": "Ua4MxSlAkYhV"
   },
   "outputs": [],
   "source": [
    "#What is sorting?\n",
    "#numerical order and lexicographical order\n",
    "#Why do we need it?\n",
    "#It is easier and faster to locate items in a sorted list than unsorted"
   ]
  },
  {
   "cell_type": "markdown",
   "metadata": {
    "id": "bGs_MePSlXU8"
   },
   "source": [
    "Built in functions for sorting"
   ]
  },
  {
   "cell_type": "code",
   "execution_count": null,
   "metadata": {
    "id": "kzIZt95GlgAk"
   },
   "outputs": [],
   "source": [
    "#sorted(iterable, key=key, reverse=reverse)\n",
    "#list\n",
    "#tuple\n",
    "#dictionary"
   ]
  },
  {
   "cell_type": "code",
   "execution_count": null,
   "metadata": {
    "colab": {
     "base_uri": "https://localhost:8080/"
    },
    "id": "aFkz6gMFnREf",
    "outputId": "4af66429-1749-4786-e343-6b4c71e7b464"
   },
   "outputs": [],
   "source": [
    "list1=[23,45,67,89,3,4,1,55]\n",
    "list2=['cse','eee','mat','eng','phy']\n",
    "list_1=sorted(list1)\n",
    "print(list1)\n",
    "print(list_1)\n",
    "\n",
    "list_2=sorted(list2)\n",
    "print(list2)\n",
    "print(list_2)"
   ]
  },
  {
   "cell_type": "code",
   "execution_count": null,
   "metadata": {
    "id": "rKmFddYNnUzR"
   },
   "outputs": [],
   "source": [
    "tuple1=(789,405,65,12,33,14,81,99)\n",
    "tuple2=('sat','sun','mon','tue','wed')"
   ]
  },
  {
   "cell_type": "code",
   "execution_count": null,
   "metadata": {
    "colab": {
     "base_uri": "https://localhost:8080/"
    },
    "id": "WhsMiFoBlpV1",
    "outputId": "5526ab22-51d9-4943-93f7-ee1f210a97de"
   },
   "outputs": [],
   "source": [
    "dict1={122:'CSE',455:'PHY',20:'MAT',45:'ENG'}\n",
    "dict2={'PHY':42,'CSE':49,'MAT':34,'ENG':47}\n",
    "dict_1=sorted(dict1)\n",
    "print(dict_1)\n",
    "dict_2=sorted(dict2)\n",
    "print(dict_2)\n",
    "print(dict1)"
   ]
  },
  {
   "cell_type": "code",
   "execution_count": null,
   "metadata": {
    "colab": {
     "base_uri": "https://localhost:8080/"
    },
    "id": "CKIK3kWBn9HG",
    "outputId": "265c9cd5-f7b3-405b-f013-0346f71e7a9c"
   },
   "outputs": [],
   "source": [
    "#sort(reverse=True|False, key=key)\n",
    "list1=[23,45,67,89,3,4,1,55]\n",
    "list1.sort()\n",
    "print(list1)"
   ]
  },
  {
   "cell_type": "code",
   "execution_count": null,
   "metadata": {
    "id": "Wc24ffMR0V7N"
   },
   "outputs": [],
   "source": [
    "[(3,4),(1,2),(5,5)]"
   ]
  },
  {
   "cell_type": "markdown",
   "metadata": {
    "id": "IMQmW1PT6uUG"
   },
   "source": [
    "**Competitive programming**:\n",
    "\n",
    "1. HackerRank: https://www.hackerrank.com/dashboard\n",
    "2. beecrowd (previously known as URI Online Judge): https://www.beecrowd.com.br/judge/en"
   ]
  },
  {
   "cell_type": "code",
   "execution_count": null,
   "metadata": {
    "id": "NG2BlJFQufLC"
   },
   "outputs": [],
   "source": []
  },
  {
   "cell_type": "markdown",
   "metadata": {
    "id": "evFvn-u1ULDV"
   },
   "source": [
    "Selection sort\n",
    "\n",
    "https://visualgo.net/en/sorting"
   ]
  },
  {
   "cell_type": "code",
   "execution_count": null,
   "metadata": {
    "id": "jaq_OW-vULiX"
   },
   "outputs": [],
   "source": [
    "def selection_sort(list1):\n",
    "  for i in range(len(list1)-1): #i=2\n",
    "    min_index=i #min_index=2\n",
    "    for j in range(i+1,len(list1)): #j=3,4,5,6,7,8\n",
    "      if list1[j]<list1[min_index]:\n",
    "        min_index=j\n",
    "    \n",
    "    temp=list1[i]\n",
    "    list1[i]=list1[min_index]\n",
    "    list1[min_index]=temp\n",
    "    # list1[i],list1[min_index]=list1[min_index],list1[i]\n",
    "\n",
    "  return list1\n",
    "\n",
    "list2=[34,56,2,34,12,78,8,6,4] \n",
    "sorted_list=selection_sort(list2)\n",
    "print(sorted_list)"
   ]
  },
  {
   "cell_type": "code",
   "execution_count": null,
   "metadata": {
    "id": "XGo_Z-N9Cmvz"
   },
   "outputs": [],
   "source": [
    "#2,56,34,34,12,78,8,6,4 i=0\n",
    "#2,4,34,34,12,78,8,6,56 i=1"
   ]
  },
  {
   "cell_type": "code",
   "execution_count": null,
   "metadata": {
    "colab": {
     "base_uri": "https://localhost:8080/"
    },
    "id": "UYQXtlNJ-c8j",
    "outputId": "ee1bb10b-be19-4392-b92c-15c3bbd572a1"
   },
   "outputs": [],
   "source": [
    "var1=55\n",
    "var2=20\n",
    "var3=0\n",
    "var3=var1\n",
    "var1=var2\n",
    "var2=var3\n",
    "print(var1)\n",
    "print(var2)"
   ]
  },
  {
   "cell_type": "code",
   "execution_count": null,
   "metadata": {
    "colab": {
     "base_uri": "https://localhost:8080/"
    },
    "id": "z_FDkbfL_cdy",
    "outputId": "4980932a-1dfd-4e47-b82a-e0f4be0c718d"
   },
   "outputs": [],
   "source": [
    "list1=[23,45,66,67]\n",
    "var=0\n",
    "list1[3]=var\n",
    "list1[3]=list1[0]\n",
    "list1[0]=var\n",
    "print(list1)"
   ]
  },
  {
   "cell_type": "markdown",
   "metadata": {
    "id": "YRkTQiOTUNa3"
   },
   "source": [
    "Bubble sort\n",
    "\n",
    "https://visualgo.net/en/sorting\n"
   ]
  },
  {
   "cell_type": "code",
   "execution_count": null,
   "metadata": {
    "id": "Jzsp7g5wUP-n"
   },
   "outputs": [],
   "source": [
    "def bubble_sort(list1):\n",
    "  for i in range(len(list1)-1):\n",
    "    for j in range (len(list1)-i-1): #[4,1,2,0]\n",
    "      if list1[j]>list1[j+1]:\n",
    "        temp=list1[j]\n",
    "        list1[j]=list1[j+1]\n",
    "        list1[j+1]=temp\n",
    "        # list1[j],list1[j+1]=list1[j+1],list1[j]\n",
    "\n",
    "  return list1\n",
    "\n",
    "list2=[34,56,2,34,12,78,8,6,4]\n",
    "sorted_list=bubble_sort(list2)\n",
    "print(sorted_list)"
   ]
  },
  {
   "cell_type": "markdown",
   "metadata": {
    "id": "gFrHcfuIUTCI"
   },
   "source": [
    "Linear Search"
   ]
  },
  {
   "cell_type": "code",
   "execution_count": null,
   "metadata": {
    "id": "DvgdPsMzUR71"
   },
   "outputs": [],
   "source": [
    "def linear_search(list1,elem):\n",
    "  for idx in range(len(list1)):\n",
    "    if(list1[idx]==elem):\n",
    "      return idx\n",
    "  return -1\n",
    "\n",
    "list2=[37,56,2,34,12,78,8,6,4,12]\n",
    "index=linear_search(list2,12)\n",
    "if(index==-1):\n",
    "  print(\"Element not found\")\n",
    "else:\n",
    "  print(\"Element found at index:\",index)  "
   ]
  },
  {
   "cell_type": "code",
   "execution_count": null,
   "metadata": {
    "colab": {
     "base_uri": "https://localhost:8080/"
    },
    "id": "HxqJxfDcITrI",
    "outputId": "0324f7db-3ad1-4326-d227-b2f7e57781ed"
   },
   "outputs": [],
   "source": [
    "def linear_search(list1,elem):\n",
    "  index=-1\n",
    "  for idx in range(len(list1)):\n",
    "    if(list1[idx]==elem):\n",
    "      index=idx\n",
    "  return index\n",
    "\n",
    "list2=[37,56,2,34,12,78,8,6,4,12]\n",
    "index=linear_search(list2,122)\n",
    "if(index==-1):\n",
    "  print(\"Element not found\")\n",
    "else:\n",
    "  print(\"Element found at index:\",index)  "
   ]
  },
  {
   "cell_type": "code",
   "execution_count": null,
   "metadata": {
    "colab": {
     "base_uri": "https://localhost:8080/"
    },
    "id": "aEcDihhqIu7o",
    "outputId": "bbe5c17b-e717-4116-ce8a-f8931c56761d"
   },
   "outputs": [],
   "source": [
    "def linear_search(list1,elem):\n",
    "  index=[]\n",
    "  for idx in range(len(list1)):\n",
    "    if(list1[idx]==elem):\n",
    "      index.append(idx)\n",
    "  return index\n",
    "\n",
    "list2=[37,56,2,34,12,78,8,6,4,12]\n",
    "index=linear_search(list2,12)\n",
    "print(\"Element found at index:\",index)  "
   ]
  },
  {
   "cell_type": "code",
   "execution_count": null,
   "metadata": {
    "colab": {
     "base_uri": "https://localhost:8080/"
    },
    "id": "DrQSJzElHcqN",
    "outputId": "903611c8-3f9e-462f-b2e3-e50e9dec8ca2"
   },
   "outputs": [],
   "source": [
    "list1=[5,7,9,12,13]\n",
    "x=9\n",
    "for idx in range(len(list1)):\n",
    "  if(list1[idx]==x):\n",
    "    print(idx)"
   ]
  },
  {
   "cell_type": "markdown",
   "metadata": {
    "id": "d_d_oG2fUXp9"
   },
   "source": [
    "Binary Search"
   ]
  },
  {
   "cell_type": "code",
   "execution_count": null,
   "metadata": {
    "colab": {
     "base_uri": "https://localhost:8080/"
    },
    "id": "R1FRyFA0UZnI",
    "outputId": "5c4ae90f-d84e-43c2-ca9e-350e0f1429ab"
   },
   "outputs": [],
   "source": [
    "def binary_Search(arr, l, r, x):\n",
    "    while l <= r:\n",
    "        m = l + (r - l) // 2\n",
    "        if arr[m] == x:\n",
    "            return m\n",
    "\n",
    "        elif arr[m] < x:\n",
    "            l = m + 1\n",
    "        else:\n",
    "            r = m - 1\n",
    "    else:\n",
    "        return -1\n",
    "\n",
    "list1 = [1, 2, 3, 5, 7]\n",
    "num= 3\n",
    " \n",
    "idx = binary_Search(list1, 0, len(list1)-1, num)\n",
    "if idx == -1:\n",
    "    print(\"Element is not present\")\n",
    "else:\n",
    "    print(\"Element is present at index:\",idx)"
   ]
  },
  {
   "cell_type": "code",
   "execution_count": null,
   "metadata": {
    "id": "j5gi3zvTUcb4"
   },
   "outputs": [],
   "source": [
    "#Any questions"
   ]
  }
 ],
 "metadata": {
  "colab": {
   "collapsed_sections": [],
   "name": "CSE110_Section_30_Week_11_Class_1_&_2.ipynb",
   "provenance": []
  },
  "kernelspec": {
   "display_name": "Python 3",
   "name": "python3"
  },
  "language_info": {
   "name": "python"
  }
 },
 "nbformat": 4,
 "nbformat_minor": 0
}
