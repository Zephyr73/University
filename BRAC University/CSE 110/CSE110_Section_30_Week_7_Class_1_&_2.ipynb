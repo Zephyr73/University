{
  "nbformat": 4,
  "nbformat_minor": 0,
  "metadata": {
    "colab": {
      "name": "CSE110_Section-30_Week-7_Class-1 & 2.ipynb",
      "provenance": []
    },
    "kernelspec": {
      "name": "python3",
      "display_name": "Python 3"
    },
    "language_info": {
      "name": "python"
    }
  },
  "cells": [
    {
      "cell_type": "markdown",
      "source": [
        "Nested List"
      ],
      "metadata": {
        "id": "FGnIf06v4_JA"
      }
    },
    {
      "cell_type": "code",
      "execution_count": null,
      "metadata": {
        "id": "_Z5TMrxA4nrb",
        "colab": {
          "base_uri": "https://localhost:8080/"
        },
        "outputId": "9435e4b2-559d-4969-bca0-f315f2bf6132"
      },
      "outputs": [
        {
          "output_type": "stream",
          "name": "stdout",
          "text": [
            "[100, 200, [600, 700]]\n",
            "700\n"
          ]
        }
      ],
      "source": [
        "list1=[1,2,[100,200,[600,[900,1000]]],3,4,5]\n",
        "print(list1[2])\n",
        "# list1[2][2]=400\n",
        "print(list1[2][2][-1])"
      ]
    },
    {
      "cell_type": "markdown",
      "source": [
        "Taking input as a list"
      ],
      "metadata": {
        "id": "VA30I4Xj5HRt"
      }
    },
    {
      "cell_type": "code",
      "source": [
        "user=int(input(\"Please enter how many elements you want in your list\"))\n",
        "list1=[]\n",
        "for idx in range(user):\n",
        "  inp=float(input(\"Enter a elemet:\"))\n",
        "  list1.append(inp)\n",
        "print(list1)\n"
      ],
      "metadata": {
        "id": "VtaUdspD5KEZ",
        "colab": {
          "base_uri": "https://localhost:8080/"
        },
        "outputId": "5d3a69bc-94dc-4c55-f298-b24533d5b236"
      },
      "execution_count": null,
      "outputs": [
        {
          "output_type": "stream",
          "name": "stdout",
          "text": [
            "Please enter how many elements you want in your list3\n",
            "Enter a elemet:10\n",
            "Enter a elemet:20\n",
            "Enter a elemet:30\n",
            "[10.0, 20.0, 30.0]\n"
          ]
        }
      ]
    },
    {
      "cell_type": "code",
      "source": [
        "user=input(\"Please enter space seperated names:\")\n",
        "list1=user.split(\" \")\n",
        "print(list1)\n",
        "list2=[]\n",
        "for elem in list1:\n",
        "  list2.append(int(elem))\n",
        "print(list2)"
      ],
      "metadata": {
        "colab": {
          "base_uri": "https://localhost:8080/"
        },
        "id": "6N_Ne3K4ghyx",
        "outputId": "9925aebd-d030-49dd-d407-28976d7b8acc"
      },
      "execution_count": null,
      "outputs": [
        {
          "output_type": "stream",
          "name": "stdout",
          "text": [
            "Please enter space seperated names:10 20 30 40\n",
            "['10', '20', '30', '40']\n",
            "[10, 20, 30, 40]\n"
          ]
        }
      ]
    },
    {
      "cell_type": "markdown",
      "source": [
        "Any particular problem in list"
      ],
      "metadata": {
        "id": "6GViVyH-5CtS"
      }
    },
    {
      "cell_type": "code",
      "source": [
        "#previous class\n",
        "#homework solution"
      ],
      "metadata": {
        "id": "q_w6B99s5Fyu"
      },
      "execution_count": null,
      "outputs": []
    },
    {
      "cell_type": "markdown",
      "source": [
        "**Dictionary**"
      ],
      "metadata": {
        "id": "PmhWa45V5Lll"
      }
    },
    {
      "cell_type": "code",
      "source": [
        "#unordered data structure\n",
        "#Dynamic\n",
        "#Mutable\n",
        "#Also known as map/hash table/associative arrays\n",
        "#has key:value pair"
      ],
      "metadata": {
        "id": "hstJgko_5Uhe"
      },
      "execution_count": null,
      "outputs": []
    },
    {
      "cell_type": "markdown",
      "source": [
        "Syntax"
      ],
      "metadata": {
        "id": "FQHwvC80-ena"
      }
    },
    {
      "cell_type": "code",
      "source": [
        "#enclosed within the curly braces {}\n",
        "#commas (,) to seperate items\n",
        "#colon to seperate key and value\n",
        "#keys are unique and of immutable data type\n",
        "#values do not have to be unique and can be of any data type"
      ],
      "metadata": {
        "id": "rQqosAU4-gUJ"
      },
      "execution_count": null,
      "outputs": []
    },
    {
      "cell_type": "markdown",
      "source": [
        "Creating dictionaries"
      ],
      "metadata": {
        "id": "3SxvXuhw-lZ-"
      }
    },
    {
      "cell_type": "code",
      "source": [
        "dict1={12:'CSE110',4:12.0,'Course':'PHY111',2:200}"
      ],
      "metadata": {
        "id": "zmG_1o0z-wbj"
      },
      "execution_count": null,
      "outputs": []
    },
    {
      "cell_type": "markdown",
      "source": [
        "Accessing dictionary value"
      ],
      "metadata": {
        "id": "zAPprbkQ-yl9"
      }
    },
    {
      "cell_type": "code",
      "source": [
        "#get(key,[value])\n",
        "#using third bracket [key]\n",
        "dict1={12:'CSE110',4:12.0,'Course':'PHY111','2':200}\n",
        "print(dict1['2'])\n",
        "print(dict1.get('22',2000))"
      ],
      "metadata": {
        "id": "n4f25ck5-13e",
        "colab": {
          "base_uri": "https://localhost:8080/"
        },
        "outputId": "8c705c49-2f80-4830-bf4f-ecad2b42a8c4"
      },
      "execution_count": null,
      "outputs": [
        {
          "output_type": "stream",
          "name": "stdout",
          "text": [
            "200\n",
            "2000\n"
          ]
        }
      ]
    },
    {
      "cell_type": "markdown",
      "source": [
        "Nested dictionary"
      ],
      "metadata": {
        "id": "nztl-Oc7-2lG"
      }
    },
    {
      "cell_type": "code",
      "source": [
        "dict1={12:'CSE110',4:{1:2000,2:4000,3:['CSE110','CSE230','CSE111']},'Course':'PHY111','2':200}\n",
        "dict1[4][3][1]='CSE101'\n",
        "print(dict1)"
      ],
      "metadata": {
        "id": "cA-R_ylO-8nM",
        "colab": {
          "base_uri": "https://localhost:8080/"
        },
        "outputId": "dc5df8f7-5e7a-4310-c097-f698d71f1eb8"
      },
      "execution_count": null,
      "outputs": [
        {
          "output_type": "stream",
          "name": "stdout",
          "text": [
            "{12: 'CSE110', 4: {1: 2000, 2: 4000, 3: ['CSE110', 'CSE101', 'CSE111']}, 'Course': 'PHY111', '2': 200}\n"
          ]
        }
      ]
    },
    {
      "cell_type": "markdown",
      "source": [
        "Dictionary Mutability"
      ],
      "metadata": {
        "id": "mILAvKKa_Edo"
      }
    },
    {
      "cell_type": "code",
      "source": [
        "#variable[key]=value\n",
        "dict1={12:'CSE110',4:12.0,'Course':'PHY111','2':200}\n",
        "dict1['Course']='MAT110'\n",
        "print(dict1)"
      ],
      "metadata": {
        "id": "ptDsV_Zf_Bf3",
        "colab": {
          "base_uri": "https://localhost:8080/"
        },
        "outputId": "213c81b5-cb62-43c9-da77-ed1a706075be"
      },
      "execution_count": null,
      "outputs": [
        {
          "output_type": "stream",
          "name": "stdout",
          "text": [
            "{12: 'CSE110', 4: 12.0, 'Course': 'MAT110', '2': 200}\n"
          ]
        }
      ]
    },
    {
      "cell_type": "markdown",
      "source": [
        "Adding/Updating Elements"
      ],
      "metadata": {
        "id": "XeWicPoa_G8J"
      }
    },
    {
      "cell_type": "code",
      "source": [
        "#.update({key:value})\n",
        "dict1={12:'CSE110',4:12.0,'Course':'PHY111','2':200}\n",
        "dict1.update({'Course1':'MAT110'})\n",
        "print(dict1)"
      ],
      "metadata": {
        "id": "3m4y7oeN_KhW",
        "colab": {
          "base_uri": "https://localhost:8080/"
        },
        "outputId": "2727297e-1a6a-42c5-c31e-dd0fc462ca37"
      },
      "execution_count": null,
      "outputs": [
        {
          "output_type": "stream",
          "name": "stdout",
          "text": [
            "{12: 'CSE110', 4: 12.0, 'Course': 'PHY111', '2': 200, 'Course1': 'MAT110'}\n"
          ]
        }
      ]
    },
    {
      "cell_type": "markdown",
      "source": [
        "Deleting Elements"
      ],
      "metadata": {
        "id": "di7wRYLU_MiQ"
      }
    },
    {
      "cell_type": "code",
      "source": [
        "#clear()\n",
        "#popitem()\n",
        "#pop(key,[msg])\n",
        "#del\n",
        "dict1={12:'CSE110',4:12.0,'Course':'PHY111','2':200}\n",
        "dict1.clear()\n",
        "print(dict1)"
      ],
      "metadata": {
        "id": "Yv_euFJK_OUT",
        "colab": {
          "base_uri": "https://localhost:8080/"
        },
        "outputId": "f3788686-2614-461b-ae27-0c1c02340a1d"
      },
      "execution_count": null,
      "outputs": [
        {
          "output_type": "stream",
          "name": "stdout",
          "text": [
            "{}\n"
          ]
        }
      ]
    },
    {
      "cell_type": "code",
      "source": [
        "dict1={12:'CSE110',4:12.0,'Course':'PHY111','2':200}\n",
        "dict1.popitem()\n",
        "print(dict1)"
      ],
      "metadata": {
        "colab": {
          "base_uri": "https://localhost:8080/"
        },
        "id": "HBWCIdCE7CiZ",
        "outputId": "2938cc76-aab7-428c-d9b4-02e8828ab8e6"
      },
      "execution_count": null,
      "outputs": [
        {
          "output_type": "stream",
          "name": "stdout",
          "text": [
            "{12: 'CSE110', 4: 12.0, 'Course': 'PHY111'}\n"
          ]
        }
      ]
    },
    {
      "cell_type": "code",
      "source": [
        "dict1={12:'CSE110',4:12.0,'Course':'PHY111','2':200}\n",
        "dict1.pop(44,'No key found')"
      ],
      "metadata": {
        "colab": {
          "base_uri": "https://localhost:8080/",
          "height": 35
        },
        "id": "heAuSgaz7Pvg",
        "outputId": "c6288e2e-204d-4126-c0df-9d93aa338c31"
      },
      "execution_count": null,
      "outputs": [
        {
          "output_type": "execute_result",
          "data": {
            "text/plain": [
              "'No key found'"
            ],
            "application/vnd.google.colaboratory.intrinsic+json": {
              "type": "string"
            }
          },
          "metadata": {},
          "execution_count": 33
        }
      ]
    },
    {
      "cell_type": "code",
      "source": [
        "dict1={12:'CSE110',4:12.0,'Course':'PHY111','2':200}\n",
        "del dict1[12]\n",
        "print(dict1)"
      ],
      "metadata": {
        "colab": {
          "base_uri": "https://localhost:8080/"
        },
        "id": "qbLntSgeEH4X",
        "outputId": "b6688446-5803-4b5c-b5af-9347572096e9"
      },
      "execution_count": null,
      "outputs": [
        {
          "output_type": "stream",
          "name": "stdout",
          "text": [
            "{4: 12.0, 'Course': 'PHY111', '2': 200}\n"
          ]
        }
      ]
    },
    {
      "cell_type": "code",
      "source": [
        "dir({})"
      ],
      "metadata": {
        "colab": {
          "base_uri": "https://localhost:8080/"
        },
        "id": "lr5awdKC7dSi",
        "outputId": "02488212-9f20-40fe-9e73-786bd6ec552d"
      },
      "execution_count": null,
      "outputs": [
        {
          "output_type": "execute_result",
          "data": {
            "text/plain": [
              "['__class__',\n",
              " '__contains__',\n",
              " '__delattr__',\n",
              " '__delitem__',\n",
              " '__dir__',\n",
              " '__doc__',\n",
              " '__eq__',\n",
              " '__format__',\n",
              " '__ge__',\n",
              " '__getattribute__',\n",
              " '__getitem__',\n",
              " '__gt__',\n",
              " '__hash__',\n",
              " '__init__',\n",
              " '__init_subclass__',\n",
              " '__iter__',\n",
              " '__le__',\n",
              " '__len__',\n",
              " '__lt__',\n",
              " '__ne__',\n",
              " '__new__',\n",
              " '__reduce__',\n",
              " '__reduce_ex__',\n",
              " '__repr__',\n",
              " '__setattr__',\n",
              " '__setitem__',\n",
              " '__sizeof__',\n",
              " '__str__',\n",
              " '__subclasshook__',\n",
              " 'clear',\n",
              " 'copy',\n",
              " 'fromkeys',\n",
              " 'get',\n",
              " 'items',\n",
              " 'keys',\n",
              " 'pop',\n",
              " 'popitem',\n",
              " 'setdefault',\n",
              " 'update',\n",
              " 'values']"
            ]
          },
          "metadata": {},
          "execution_count": 31
        }
      ]
    },
    {
      "cell_type": "markdown",
      "source": [
        "**Homework:**\n",
        "You have the following dictionary:\n",
        "dict1={1:22,4:55,6:44,5:99,9:77,3:66}\n",
        "\n",
        "Your job is to sum the values of the keys: 1,6 and 9 and add the summation at the end of the dictionary correspond to key 7. Also, update the value of key 4 to 100. So, the output dictionary will be:\n",
        "\n",
        "dict2={1:22,4:100,6:44,5:99,9:77,3:66,7:143}"
      ],
      "metadata": {
        "id": "kQuBfin1pVs7"
      }
    },
    {
      "cell_type": "markdown",
      "source": [
        "Few more functions"
      ],
      "metadata": {
        "id": "2q_fdgbF_Qvh"
      }
    },
    {
      "cell_type": "code",
      "source": [
        "#.keys()\n",
        "#.values()\n",
        "#.items()"
      ],
      "metadata": {
        "id": "6cTy577V_Ss9"
      },
      "execution_count": null,
      "outputs": []
    },
    {
      "cell_type": "code",
      "source": [
        "dict1={12:'CSE110',4:'CSE111',9:'CSE421',3:'CSE420'}\n",
        "print(dict1.keys())\n",
        "print(dict1.values())\n",
        "print(dict1.items())"
      ],
      "metadata": {
        "colab": {
          "base_uri": "https://localhost:8080/"
        },
        "id": "Xro1QaryEmqu",
        "outputId": "2ceae1b7-c352-45fa-c227-7910c39f59a7"
      },
      "execution_count": null,
      "outputs": [
        {
          "output_type": "stream",
          "name": "stdout",
          "text": [
            "dict_keys([12, 4, 9, 3])\n",
            "dict_values(['CSE110', 'CSE111', 'CSE421', 'CSE420'])\n",
            "dict_items([(12, 'CSE110'), (4, 'CSE111'), (9, 'CSE421'), (3, 'CSE420')])\n"
          ]
        }
      ]
    },
    {
      "cell_type": "markdown",
      "source": [
        "Iteration"
      ],
      "metadata": {
        "id": "EqOeSc9F_buG"
      }
    },
    {
      "cell_type": "code",
      "source": [
        "#iteration over keys\n",
        "#iteration over values\n",
        "#iteration over items"
      ],
      "metadata": {
        "id": "DPJUT1i2_dlP"
      },
      "execution_count": null,
      "outputs": []
    },
    {
      "cell_type": "code",
      "source": [
        "dict1={12:'CSE110',4:'CSE111',9:'CSE421',3:'CSE420'}\n",
        "for var in dict1:\n",
        "  print(var)\n",
        "  print(dict1[var])"
      ],
      "metadata": {
        "colab": {
          "base_uri": "https://localhost:8080/"
        },
        "id": "Or58dS1-Fc5X",
        "outputId": "29d98989-9d04-4a6f-8f91-36a9f9bf7cde"
      },
      "execution_count": null,
      "outputs": [
        {
          "output_type": "stream",
          "name": "stdout",
          "text": [
            "12\n",
            "CSE110\n",
            "4\n",
            "CSE111\n",
            "9\n",
            "CSE421\n",
            "3\n",
            "CSE420\n"
          ]
        }
      ]
    },
    {
      "cell_type": "code",
      "source": [
        "dict1={12:'CSE110',4:'CSE111',9:'CSE421',3:'CSE420'}\n",
        "for var in dict1.keys():\n",
        "  print(var)"
      ],
      "metadata": {
        "colab": {
          "base_uri": "https://localhost:8080/"
        },
        "id": "he88s2upHM84",
        "outputId": "ecc2e73d-7f7d-43f5-a684-87497b8af92c"
      },
      "execution_count": null,
      "outputs": [
        {
          "output_type": "stream",
          "name": "stdout",
          "text": [
            "12\n",
            "4\n",
            "9\n",
            "3\n"
          ]
        }
      ]
    },
    {
      "cell_type": "code",
      "source": [
        "dict1={12:'CSE110',4:'CSE111',9:'CSE421',3:'CSE420'}\n",
        "for var in dict1.values():\n",
        "  print(var)"
      ],
      "metadata": {
        "colab": {
          "base_uri": "https://localhost:8080/"
        },
        "id": "xKFbzGf9HYqv",
        "outputId": "b97c3e75-0c94-433a-bd56-327c4db76e49"
      },
      "execution_count": null,
      "outputs": [
        {
          "output_type": "stream",
          "name": "stdout",
          "text": [
            "CSE110\n",
            "CSE111\n",
            "CSE421\n",
            "CSE420\n"
          ]
        }
      ]
    },
    {
      "cell_type": "code",
      "source": [
        "dict1={12:'CSE110',4:'CSE111',9:'CSE421',3:'CSE420'}\n",
        "for var,val1 in dict1.items():\n",
        "  print(var,val1)"
      ],
      "metadata": {
        "id": "Yb16l_aGTXHR",
        "outputId": "14245caa-a1b5-4595-d081-246e44f75f11",
        "colab": {
          "base_uri": "https://localhost:8080/"
        }
      },
      "execution_count": null,
      "outputs": [
        {
          "output_type": "stream",
          "name": "stdout",
          "text": [
            "12 CSE110\n",
            "4 CSE111\n",
            "9 CSE421\n",
            "3 CSE420\n"
          ]
        }
      ]
    },
    {
      "cell_type": "code",
      "source": [
        ""
      ],
      "metadata": {
        "id": "HznBcX21HeJO"
      },
      "execution_count": null,
      "outputs": []
    },
    {
      "cell_type": "markdown",
      "source": [
        "Built in functions"
      ],
      "metadata": {
        "id": "rQ0ah_1W_h5W"
      }
    },
    {
      "cell_type": "markdown",
      "source": [
        "**Homework 1:**"
      ],
      "metadata": {
        "id": "74AnuVCgJVYh"
      }
    },
    {
      "cell_type": "code",
      "source": [
        "#len\n",
        "#max(dictionary.keys())\n",
        "#max(dictionary.values())\n",
        "#min(dictionary.keys())\n",
        "#min(dictionary.values())\n",
        "#sorted(dictionary.keys())\n",
        "#sorted(dictionary.values())"
      ],
      "metadata": {
        "id": "S8LthEEc_lIs"
      },
      "execution_count": null,
      "outputs": []
    },
    {
      "cell_type": "code",
      "source": [
        "print(len(dict1))\n",
        "print(max(dict1.keys()))\n",
        "print(max(dict1.values()))\n",
        "print(min(dict1.keys()))\n",
        "print(min(dict1.values()))\n",
        "print(sorted(dict1.keys()))\n",
        "print(sorted(dict1.values()))"
      ],
      "metadata": {
        "colab": {
          "base_uri": "https://localhost:8080/"
        },
        "id": "2g6XkLbMHtAA",
        "outputId": "7dcb7e2b-a8c5-4887-c9ad-70886e64e695"
      },
      "execution_count": null,
      "outputs": [
        {
          "output_type": "stream",
          "name": "stdout",
          "text": [
            "4\n",
            "12\n",
            "CSE421\n",
            "3\n",
            "CSE110\n",
            "[3, 4, 9, 12]\n",
            "['CSE110', 'CSE111', 'CSE420', 'CSE421']\n"
          ]
        }
      ]
    },
    {
      "cell_type": "code",
      "source": [
        "dict1={12:'CSE110',4:'CSE111',9:'CSE421',3:'CSE420'}\n",
        "dict2={}\n",
        "dict3={}\n",
        "for val in dict1:\n",
        "  if val%2==0:\n",
        "    dict2.update({val:dict1[val]})\n",
        "  else:\n",
        "    dict3.update({val:dict1[val]})\n",
        "print(dict2)\n",
        "print(dict3)"
      ],
      "metadata": {
        "colab": {
          "base_uri": "https://localhost:8080/"
        },
        "id": "2t20XVtvPcTw",
        "outputId": "93e392b2-9194-41f0-8b9a-fec448274a69"
      },
      "execution_count": null,
      "outputs": [
        {
          "output_type": "stream",
          "name": "stdout",
          "text": [
            "{12: 'CSE110', 4: 'CSE111'}\n",
            "{9: 'CSE421', 3: 'CSE420'}\n"
          ]
        }
      ]
    },
    {
      "cell_type": "markdown",
      "source": [
        "**Homework (Optional):** take dictionary as input from the user by using for loop and also by using the split() function."
      ],
      "metadata": {
        "id": "7KgVARBAJsRE"
      }
    },
    {
      "cell_type": "markdown",
      "source": [
        "**Tuples**"
      ],
      "metadata": {
        "id": "Q64Rji2-qqPx"
      }
    },
    {
      "cell_type": "code",
      "source": [
        "#A collection of ordered and immutable objects\n",
        "#similar to lists\n",
        "#Tuples cannot be changed like lists\n",
        "#Tuples use parenthese whereas lists use square brackets"
      ],
      "metadata": {
        "id": "lEFZ39B_qsmw"
      },
      "execution_count": null,
      "outputs": []
    },
    {
      "cell_type": "markdown",
      "source": [
        "Creating a Tuple"
      ],
      "metadata": {
        "id": "HAv79MngrNMO"
      }
    },
    {
      "cell_type": "code",
      "source": [
        "#To create a tuple with only one item, you have to add\n",
        "#a comma after the item, otherwise Python will not\n",
        "#recognize it as a tuple"
      ],
      "metadata": {
        "id": "xQAr72fprPuS"
      },
      "execution_count": null,
      "outputs": []
    },
    {
      "cell_type": "markdown",
      "source": [
        "Accesing Elements of a Tuple"
      ],
      "metadata": {
        "id": "7krzxlWmr648"
      }
    },
    {
      "cell_type": "code",
      "source": [
        "tuple1=(23,45,67)\n",
        "a,b,c=tuple1\n",
        "print(c)"
      ],
      "metadata": {
        "id": "EgBJj8KTr96P",
        "colab": {
          "base_uri": "https://localhost:8080/"
        },
        "outputId": "e5180f61-e5ad-4d4e-bf95-798692956a2c"
      },
      "execution_count": null,
      "outputs": [
        {
          "output_type": "stream",
          "name": "stdout",
          "text": [
            "67\n"
          ]
        }
      ]
    },
    {
      "cell_type": "code",
      "source": [
        "tuple1=[23,45,67]\n",
        "a,b,c=tuple1\n",
        "print(c)"
      ],
      "metadata": {
        "colab": {
          "base_uri": "https://localhost:8080/"
        },
        "id": "-eOX9YB8RUa0",
        "outputId": "77bc37c2-95d1-4d03-d641-7e0344efc348"
      },
      "execution_count": null,
      "outputs": [
        {
          "output_type": "stream",
          "name": "stdout",
          "text": [
            "67\n"
          ]
        }
      ]
    },
    {
      "cell_type": "code",
      "source": [
        "list1=[67]\n",
        "print(type(list1))"
      ],
      "metadata": {
        "colab": {
          "base_uri": "https://localhost:8080/"
        },
        "id": "t61xJqshRoGt",
        "outputId": "223918f1-9bdd-4a68-d053-6e87d4f7fdca"
      },
      "execution_count": null,
      "outputs": [
        {
          "output_type": "stream",
          "name": "stdout",
          "text": [
            "<class 'list'>\n"
          ]
        }
      ]
    },
    {
      "cell_type": "code",
      "source": [
        "tuple1=(78,)\n",
        "print(type(tuple1))"
      ],
      "metadata": {
        "colab": {
          "base_uri": "https://localhost:8080/"
        },
        "id": "9jwxceQfRvRq",
        "outputId": "e3ad56de-4d77-47a1-d3bc-3b77dbd4f01e"
      },
      "execution_count": null,
      "outputs": [
        {
          "output_type": "stream",
          "name": "stdout",
          "text": [
            "<class 'tuple'>\n"
          ]
        }
      ]
    },
    {
      "cell_type": "markdown",
      "source": [
        "Mutability of Tuples"
      ],
      "metadata": {
        "id": "lRXU9RBksA-x"
      }
    },
    {
      "cell_type": "code",
      "source": [
        "tuple1=(78,78,90)\n",
        "print(tuple1[2])"
      ],
      "metadata": {
        "id": "jHv7iUIFsFWU",
        "colab": {
          "base_uri": "https://localhost:8080/"
        },
        "outputId": "077465a9-9328-416a-d4bf-9768de55e233"
      },
      "execution_count": null,
      "outputs": [
        {
          "output_type": "stream",
          "name": "stdout",
          "text": [
            "90\n"
          ]
        }
      ]
    },
    {
      "cell_type": "code",
      "source": [
        "tuple1=(78,[77,88,99],90)\n",
        "print(tuple1[1][2])\n",
        "tuple1[1][2]=100\n",
        "print(tuple1)"
      ],
      "metadata": {
        "colab": {
          "base_uri": "https://localhost:8080/"
        },
        "id": "D0GEsCkISWnw",
        "outputId": "8d441d8d-d14b-475e-c661-94a267aa7e25"
      },
      "execution_count": null,
      "outputs": [
        {
          "output_type": "stream",
          "name": "stdout",
          "text": [
            "99\n",
            "(78, [77, 88, 100], 90)\n"
          ]
        }
      ]
    },
    {
      "cell_type": "markdown",
      "source": [
        "Advantages of Tuple over List"
      ],
      "metadata": {
        "id": "YbsADIWtsG_o"
      }
    },
    {
      "cell_type": "code",
      "source": [
        "#can use for storing values of heterogeneous (different)\n",
        "#As immutable, iterating through a tuple is faster than list\n",
        "#Can be used as a key for a dictionary\n",
        "#Tuple guarantee that not chaning data remains write-protected"
      ],
      "metadata": {
        "id": "B6bPJuvhsKlh"
      },
      "execution_count": null,
      "outputs": []
    },
    {
      "cell_type": "markdown",
      "source": [
        "**Homework 2:**\n",
        "\n",
        "Magic number: If the summation of even indexed digits is equal to the summation of odd indexed digits, then the number is\n",
        "a magic number.\n",
        "\n",
        "Now, write a Python program that will take a string of numbers where each number is separated by a comma. The program should\n",
        "print a tuple containing two sub-tuples, where the first sub-tuple will hold the magic numbers and the second sub-tuple will hold the non-magic numbers.\n",
        "\n",
        "===========================================================\n",
        "\n",
        "**Sample Input1:**\n",
        "\n",
        "\"1232, 4455, 1234, 9876, 1111\"\n",
        "\n",
        "**Sample Output1:**\n",
        "\n",
        "((1232, 4455, 1111), (1234, 9876))\n",
        "\n",
        "**Explanation1:**\n",
        "\n",
        "For 1232, the sum of even indexed digits is = 4 & the sum of odd indexed digits is = 4. So, 1232 is a magic number.\n",
        "\n",
        "For 4455, the sum of even indexed digits is = 9 & the sum of odd indexed digits is = 9. So, 4455 is a magic number.\n",
        "\n",
        "For 1234, the sum of even indexed digits is = 4 & the sum of odd indexed digits is = 6. So, 1234 is a non-magic number.\n",
        "\n",
        "For 9876, the sum of even indexed digits is = 16 & the sum of odd indexed digits is = 14. So, 9876 is a non-magic number.\n",
        "\n",
        "For 1111, the sum of even indexed digits is = 2 & the sum of odd indexed digits is = 2. So, 1111 is a magic number.\n",
        "\n",
        "So, the final answer is ((1232, 4455, 1111), (1234, 9876))\n",
        "\n",
        "===========================================================\n",
        "\n",
        "**Sample Input2:**\n",
        "\n",
        "\"442310, 441310, 42251, 42241, 451, 452\"\n",
        "\n",
        "**Sample Output2:**\n",
        "\n",
        "((442310, 42251, 451), (441310, 42241, 452))\n",
        "\n",
        "**Explanation2:**\n",
        "\n",
        "For 442310, the sum of even indexed digits is = 7 & the sum of odd indexed digits is = 7. So, 442310 is a magic number.\n",
        "\n",
        "For 441310, the sum of even indexed digits is = 6 & the sum of odd indexed digits is = 7. So, 441310 is a non-magic number.\n",
        "\n",
        "For 42251, the sum of even indexed digits is = 7 & the sum of odd indexed digits is = 7. So, 42251 is a magic number.\n",
        "\n",
        "For 42241, the sum of even indexed digits is = 7 & the sum of odd indexed digits is = 6. So, 42241 is a non-magic number.\n",
        "\n",
        "For 451, the sum of even indexed digits is = 5 & the sum of odd indexed digits is = 5. So, 451 is a magic number.\n",
        "\n",
        "For 452, the sum of even indexed digits is = 6 & the sum of odd indexed digits is = 5. So, 452 is a non-magic number.\n",
        "\n",
        "So, the final answer is ((442310, 42251, 451), (441310, 42241, 452))"
      ],
      "metadata": {
        "id": "G9II66aOTeDG"
      }
    }
  ]
}