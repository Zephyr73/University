{
  "nbformat": 4,
  "nbformat_minor": 0,
  "metadata": {
    "colab": {
      "name": "CSE110_Section-30_Week-8 & 9_Class-1 & 2.ipynb",
      "provenance": [],
      "collapsed_sections": []
    },
    "kernelspec": {
      "name": "python3",
      "display_name": "Python 3"
    },
    "language_info": {
      "name": "python"
    }
  },
  "cells": [
    {
      "cell_type": "markdown",
      "source": [
        "From previous class:"
      ],
      "metadata": {
        "id": "RRP7W1_RufcM"
      }
    },
    {
      "cell_type": "code",
      "source": [
        "#From previous class: Yes, sorted function has reverse keyword\n",
        "dict1={12:'CSE110',4:'CSE111',9:'CSE421',3:'CSE420'}\n",
        "dict2=sorted(dict1.keys(),reverse=True)\n",
        "print(dict2)"
      ],
      "metadata": {
        "colab": {
          "base_uri": "https://localhost:8080/"
        },
        "id": "e-srCd7wtyzA",
        "outputId": "077998ef-6638-4f5f-d11c-536e87ada9ca"
      },
      "execution_count": null,
      "outputs": [
        {
          "output_type": "stream",
          "name": "stdout",
          "text": [
            "[12, 9, 4, 3]\n"
          ]
        }
      ]
    },
    {
      "cell_type": "code",
      "source": [
        "#making the keys or values of the dictionary into iterable lists\n",
        "dict1={12:'CSE110',4:'CSE111',9:'CSE421',3:'CSE420'}\n",
        "print(dict1.keys())\n",
        "list1=list(dict1.keys())\n",
        "list2=list(dict1.values())\n",
        "print(list1[0])\n",
        "print(list2[0])\n",
        "print(list1)"
      ],
      "metadata": {
        "colab": {
          "base_uri": "https://localhost:8080/"
        },
        "id": "IIkG9mEZvdH9",
        "outputId": "d5c06685-bd0f-4b0a-9b87-2e81efa7e56d"
      },
      "execution_count": null,
      "outputs": [
        {
          "output_type": "stream",
          "name": "stdout",
          "text": [
            "dict_keys([12, 4, 9, 3])\n",
            "12\n",
            "CSE110\n",
            "[12, 4, 9, 3]\n"
          ]
        }
      ]
    },
    {
      "cell_type": "code",
      "source": [
        "#A correction: Along with tuple all other data structure also have unpacking\n",
        "#For example:\n",
        "list1=[56,90,\"CSE110 [cause it is the universal string for this course ehem]\"]\n",
        "a,b,c=list1\n",
        "print(a)\n",
        "print(c)"
      ],
      "metadata": {
        "colab": {
          "base_uri": "https://localhost:8080/"
        },
        "id": "x39PkTOPukmG",
        "outputId": "b902b765-3c9a-4f62-9d2a-3d8270ab5b3e"
      },
      "execution_count": null,
      "outputs": [
        {
          "output_type": "stream",
          "name": "stdout",
          "text": [
            "56\n",
            "CSE110 [cause it is the universal string for this course ehem]\n"
          ]
        }
      ]
    },
    {
      "cell_type": "markdown",
      "source": [
        "Any particular problem from last week's content"
      ],
      "metadata": {
        "id": "LEQEgeO5vLTz"
      }
    },
    {
      "cell_type": "code",
      "source": [
        "#No problem"
      ],
      "metadata": {
        "id": "S-PtoD-1vQLa"
      },
      "execution_count": null,
      "outputs": []
    },
    {
      "cell_type": "markdown",
      "source": [
        "Functions"
      ],
      "metadata": {
        "id": "rkf03VFPsohn"
      }
    },
    {
      "cell_type": "code",
      "execution_count": null,
      "metadata": {
        "id": "7ZRMtsHwsZRy"
      },
      "outputs": [],
      "source": [
        "#A function has 4 parts:name,parameter,body of the function,return statement\n",
        "#4 types of function:\n",
        "#1. Built-in functions\n",
        "#2. User-defined functions\n",
        "#3. Lambda function\n",
        "#4. Recursive function"
      ]
    },
    {
      "cell_type": "markdown",
      "source": [
        "Built-in functions"
      ],
      "metadata": {
        "id": "iMjTKTwmtizT"
      }
    },
    {
      "cell_type": "code",
      "source": [
        "#input()\n",
        "#print()\n",
        "#min()\n",
        "#max()"
      ],
      "metadata": {
        "id": "VirqKPS-tnC_"
      },
      "execution_count": null,
      "outputs": []
    },
    {
      "cell_type": "markdown",
      "source": [
        "User-defined functions"
      ],
      "metadata": {
        "id": "oXLqI9lmtvwr"
      }
    },
    {
      "cell_type": "code",
      "source": [
        "#Custom functions that we write to fulfill our purpose\n",
        "#There are 2 types:\n",
        "#1. Void function: Do not return anything\n",
        "#2. Fruitful function: Return some value after execution"
      ],
      "metadata": {
        "id": "LXc53bfpt0A1"
      },
      "execution_count": null,
      "outputs": []
    },
    {
      "cell_type": "code",
      "source": [
        "def addition (val1,val2):\n",
        "  sum1=val1+val2\n",
        "  # return sum1\n",
        "\n",
        "val=addition(20,40)\n",
        "val=addition(80,40)\n",
        "print(val)"
      ],
      "metadata": {
        "id": "FrLSARRcuNID",
        "colab": {
          "base_uri": "https://localhost:8080/"
        },
        "outputId": "d52b5dd0-5980-4d06-fec9-ec8889b94bae"
      },
      "execution_count": null,
      "outputs": [
        {
          "output_type": "stream",
          "name": "stdout",
          "text": [
            "None\n"
          ]
        }
      ]
    },
    {
      "cell_type": "markdown",
      "source": [
        "**Homework 1:**\n",
        "\n",
        "Do the following tracing problem on Boolean and must submit in the next class. There will be another tracing problem on list as homework will given in the next class."
      ],
      "metadata": {
        "id": "Na7LEROOUg_C"
      }
    },
    {
      "cell_type": "code",
      "source": [
        "var1 = var2 = var3 = True\n",
        "var4 = var5 = var6 = False\n",
        "result1 = result2 = result3 = result4 = result5 =False\n",
        "result6 =result7 = result8 = result9 = result10 = True\n",
        "var1 = (5**2)<(2**5)\n",
        "var2 = var1 and False\n",
        "var3 = True\n",
        "var4 = False and False\n",
        "var5 = False or not False\n",
        "var6 = var1 and True\n",
        "result1 = (var3 or var2) and ('2' in \"2244\")\n",
        "result2 = (var1 and result1) or (result1 and True)\n",
        "result3 = (var1 and result1) or result2 or result1 and True\n",
        "result4 = (var1 or var2) or ((var3 and var1) and False or True)\n",
        "result5 = (var1 and var2) and (result3 or var1) or (var2 and var3)\n",
        "result6 = ((var3 or var2) and not result5) or not True\n",
        "result7 = (var4 and result1) and ((result1 and False) or True) or False\n",
        "result8 = ((var1 and result6) and (var5 or var1)) and True\n",
        "result9 = ((result4 and var3) or (result7 and var6)) and not False\n",
        "result10 = not(var3 and True)\n",
        "print(result1)\n",
        "print(result2)\n",
        "print(result3)\n",
        "print(result4)\n",
        "print(result5)\n",
        "print(result6)\n",
        "print(result7)\n",
        "print(result8)\n",
        "print(result9)\n",
        "print(result10)"
      ],
      "metadata": {
        "id": "S6D4xKZiUigx"
      },
      "execution_count": null,
      "outputs": []
    },
    {
      "cell_type": "markdown",
      "source": [
        "Function parts"
      ],
      "metadata": {
        "id": "_0k33pTQuObr"
      }
    },
    {
      "cell_type": "code",
      "source": [
        "#Function name\n",
        "#Parameter list\n",
        "#Body of the function\n",
        "#Return statement\n",
        "#Calling the function"
      ],
      "metadata": {
        "id": "udVNlRZxudQu"
      },
      "execution_count": null,
      "outputs": []
    },
    {
      "cell_type": "code",
      "source": [
        ""
      ],
      "metadata": {
        "id": "o0xCUpoXupY5"
      },
      "execution_count": null,
      "outputs": []
    },
    {
      "cell_type": "markdown",
      "source": [
        "Parameter and Argument"
      ],
      "metadata": {
        "id": "Bkn1vsAQuqKz"
      }
    },
    {
      "cell_type": "code",
      "source": [
        "#A parameter is the variable listed inside the parentheses in the function defination\n",
        "#An argument is the value that is sent to the function when it is called"
      ],
      "metadata": {
        "id": "YsLnrJeZuvag"
      },
      "execution_count": null,
      "outputs": []
    },
    {
      "cell_type": "code",
      "source": [
        "def concat(num1,num2, val):\n",
        "  print(str(num1*num2)+val)\n",
        "\n",
        "concat(5,2,\"Sad\")"
      ],
      "metadata": {
        "id": "68gldtdOvqoH",
        "colab": {
          "base_uri": "https://localhost:8080/"
        },
        "outputId": "c2dd3fc7-13f6-441f-d1a3-af917aeaed46"
      },
      "execution_count": null,
      "outputs": [
        {
          "output_type": "stream",
          "name": "stdout",
          "text": [
            "10Sad\n"
          ]
        }
      ]
    },
    {
      "cell_type": "markdown",
      "source": [
        "Number of arguments"
      ],
      "metadata": {
        "id": "_hJ4mHTRvsxE"
      }
    },
    {
      "cell_type": "code",
      "source": [
        "#number of arguments of a function should match with the number of parameters"
      ],
      "metadata": {
        "id": "UkCIRXQRvu5Q"
      },
      "execution_count": null,
      "outputs": []
    },
    {
      "cell_type": "code",
      "source": [
        "def addition (val,val1):\n",
        "  sum1=val+val1\n",
        "  print(sum1) \n",
        "\n",
        "addition(78,88)"
      ],
      "metadata": {
        "colab": {
          "base_uri": "https://localhost:8080/"
        },
        "id": "xy7Tn8bCmoRV",
        "outputId": "309722fb-110a-4c1a-8664-b43280b4ad36"
      },
      "execution_count": null,
      "outputs": [
        {
          "output_type": "stream",
          "name": "stdout",
          "text": [
            "166\n"
          ]
        }
      ]
    },
    {
      "cell_type": "markdown",
      "source": [
        "**Homework 2:**"
      ],
      "metadata": {
        "id": "XWOgtQHTujrD"
      }
    },
    {
      "cell_type": "code",
      "source": [
        "myList = [1, 0, 1, 0, 1, 0, 1, 0, 1, 0]\n",
        "b = []\n",
        "index1 = 0\n",
        "index2 = 0\n",
        "index1 = 1\n",
        "b = myList.copy()\n",
        "while(index1<10):\n",
        "  myList[index1] = (index1%(index2+1))+3\n",
        "  index2 = 2\n",
        "  while(index2<index1):\n",
        "    myList[index1] = b[index1]+myList[index2]-index1\n",
        "    b[index1]=myList[index1]+myList[index2]+4\n",
        "    index2 = index2+1\n",
        "  print(myList[index1])\n",
        "  print(b[index1])\n",
        "  index1 = index1+1"
      ],
      "metadata": {
        "id": "AFyM0_3swDMh",
        "outputId": "8e5f576b-f49c-4f4d-a6cf-b921950a4b9e",
        "colab": {
          "base_uri": "https://localhost:8080/"
        }
      },
      "execution_count": null,
      "outputs": [
        {
          "output_type": "stream",
          "name": "stdout",
          "text": [
            "3\n",
            "0\n",
            "5\n",
            "1\n",
            "2\n",
            "11\n",
            "9\n",
            "15\n",
            "16\n",
            "29\n",
            "37\n",
            "57\n",
            "82\n",
            "123\n",
            "193\n",
            "279\n",
            "456\n",
            "653\n"
          ]
        }
      ]
    },
    {
      "cell_type": "markdown",
      "source": [
        "Unknown number of arguments (*args)"
      ],
      "metadata": {
        "id": "MzPvqw_gvw_f"
      }
    },
    {
      "cell_type": "code",
      "source": [
        "#*args is used as parameter when we do not know how many arguments will be passed to the function's parameter"
      ],
      "metadata": {
        "id": "unLFJ4F_v1oU"
      },
      "execution_count": null,
      "outputs": []
    },
    {
      "cell_type": "code",
      "source": [
        "def addition (name,*val):\n",
        "  sum1=0\n",
        "  for num in val:\n",
        "    sum1=sum1+num\n",
        "  print(name,sum1) \n",
        "\n",
        "addition('Sam',78,88,90,99,100)"
      ],
      "metadata": {
        "id": "fhAjYbCuHY90",
        "colab": {
          "base_uri": "https://localhost:8080/"
        },
        "outputId": "0d66254b-c7ff-4ff7-cd52-0af615292acf"
      },
      "execution_count": null,
      "outputs": [
        {
          "output_type": "stream",
          "name": "stdout",
          "text": [
            "Sam 455\n"
          ]
        }
      ]
    },
    {
      "cell_type": "code",
      "source": [
        "def addition (*val,name):\n",
        "  sum1=0\n",
        "  for num in val:\n",
        "    sum1=sum1+num\n",
        "  print(name,sum1) \n",
        "\n",
        "addition(78,88,90,99,100,name='Sam')"
      ],
      "metadata": {
        "colab": {
          "base_uri": "https://localhost:8080/"
        },
        "id": "Db_3u2X1qf8g",
        "outputId": "f7e40056-ad97-4047-e0fa-e9edfcc1a2b6"
      },
      "execution_count": null,
      "outputs": [
        {
          "output_type": "stream",
          "name": "stdout",
          "text": [
            "789 455\n"
          ]
        }
      ]
    },
    {
      "cell_type": "code",
      "source": [
        "def addition (name,val):\n",
        "  print(val)\n",
        "  sum1=0\n",
        "  for num in val:\n",
        "    sum1=sum1+int(num)\n",
        "  print(name,sum1) \n",
        "\n",
        "nam=input('Please enter your name: ')\n",
        "num=input('Please enter comma seperated numbers: ')\n",
        "num1=num.split(',')\n",
        "print(num1)\n",
        "addition(nam,num1)"
      ],
      "metadata": {
        "colab": {
          "base_uri": "https://localhost:8080/"
        },
        "id": "ps2LgYpzrl0w",
        "outputId": "854379ce-6d15-4a99-f19b-6ac36f3b2732"
      },
      "execution_count": null,
      "outputs": [
        {
          "output_type": "stream",
          "name": "stdout",
          "text": [
            "Please enter your name: Sam\n",
            "Please enter comma seperated numbers: 45,67,89,90\n",
            "['45', '67', '89', '90']\n",
            "['45', '67', '89', '90']\n",
            "Sam 291\n"
          ]
        }
      ]
    },
    {
      "cell_type": "markdown",
      "source": [
        "Keyword arguments"
      ],
      "metadata": {
        "id": "qbwC6DErHbSq"
      }
    },
    {
      "cell_type": "code",
      "source": [
        "#Can use to send arguments with the key=value syntax\n",
        "#So, the order of the arguments does not matter"
      ],
      "metadata": {
        "id": "kpQ6Tzi8Hfui"
      },
      "execution_count": null,
      "outputs": []
    },
    {
      "cell_type": "code",
      "source": [
        "def information (name, id, age, address):\n",
        "  print('Name is:',name)\n",
        "  print('Id is:',id)\n",
        "  print('Age is:',age)\n",
        "  print('Address is:',address)\n",
        "\n",
        "information (id=22101010,name='Sam',age=22,address='Gulshan')"
      ],
      "metadata": {
        "id": "Lg7pSGSdHr3F",
        "colab": {
          "base_uri": "https://localhost:8080/"
        },
        "outputId": "d9bfaea0-e147-4c3a-a046-260a01bf5c9d"
      },
      "execution_count": null,
      "outputs": [
        {
          "output_type": "stream",
          "name": "stdout",
          "text": [
            "Name is: Sam\n",
            "Id is: 22101010\n",
            "Age is: 22\n",
            "Address is: Gulshan\n"
          ]
        }
      ]
    },
    {
      "cell_type": "markdown",
      "source": [
        "Unknown number of keyword arguments (**kwargs)"
      ],
      "metadata": {
        "id": "6OvI_awFHsPC"
      }
    },
    {
      "cell_type": "code",
      "source": [
        "#Used when number of keyword arguments are unknown"
      ],
      "metadata": {
        "id": "xo_-L0I0Hypd"
      },
      "execution_count": null,
      "outputs": []
    },
    {
      "cell_type": "code",
      "source": [
        "def information (**info):\n",
        "  print('Name is:',info['name'])\n",
        "  print('Id is:',info['id'])\n",
        "  print('Age is:',info.get('age'))\n",
        "  print('Address is:',info['address'])\n",
        "\n",
        "information (id=22101010,name='Sam',age=22,address='Gulshan')"
      ],
      "metadata": {
        "id": "eJ6EvIICH60i",
        "colab": {
          "base_uri": "https://localhost:8080/"
        },
        "outputId": "df8f0700-2a4f-42c9-fcda-6f5f8f3e42ea"
      },
      "execution_count": null,
      "outputs": [
        {
          "output_type": "stream",
          "name": "stdout",
          "text": [
            "Name is: Sam\n",
            "Id is: 22101010\n",
            "Age is: 22\n",
            "Address is: Gulshan\n"
          ]
        }
      ]
    },
    {
      "cell_type": "code",
      "source": [
        "def information (**info):\n",
        "  for key,value in info.items():\n",
        "    print(key,value)\n",
        "\n",
        "information (id=22101010,name='Sam',age=22,address='Gulshan')"
      ],
      "metadata": {
        "colab": {
          "base_uri": "https://localhost:8080/"
        },
        "id": "lLY61_TNwLl8",
        "outputId": "8e84852f-60f2-46c8-f176-d872e5a6a72b"
      },
      "execution_count": null,
      "outputs": [
        {
          "output_type": "stream",
          "name": "stdout",
          "text": [
            "id 22101010\n",
            "name Sam\n",
            "age 22\n",
            "address Gulshan\n"
          ]
        }
      ]
    },
    {
      "cell_type": "markdown",
      "source": [
        "**Homework 1 (function):**\n",
        "\n",
        "Write a function called **check_awesome** that takes a list of numbers(integer) as an argument and Prints whether the number is Awesome or not.\n",
        "\n",
        "**Awesome number:** a number where every digit is less than its immediate left digit is called an Awesome number. A single digit number cannot be a awesome number(e.g. 5421 is an Awesome number).\n",
        "\n",
        "**<font color='red'>Must reuse the check_awesomeness() function.</font>**\n",
        "\n",
        "==========================================================\n",
        "\n",
        "**Function Call1:**\\\n",
        "check_awesome([976321, 321, 9763221, 9742, 876, 3211])\\\n",
        "**Output1:**\\\n",
        "976321 is an awesome number.\\\n",
        "321 is a awesome number.\\\n",
        "9763221 is a not-so-awesome number.\\\n",
        "9742 is an awesome number.\\\n",
        "876 is an awesome number.\\\n",
        "3211 is a not-so-awesome number.\n",
        "\n",
        "==========================================================\n",
        "\n",
        "**Function Call2:**\\\n",
        "check_awesome([97821, 97210, 979210])\\\n",
        "**Output2:**\\\n",
        "97821 is a not-so-awesome number.\\\n",
        "97210 is an awesome number.\\\n",
        "979210 is a not-so-awesome number."
      ],
      "metadata": {
        "id": "2M5dCe0LWVkG"
      }
    },
    {
      "cell_type": "code",
      "source": [
        ""
      ],
      "metadata": {
        "id": "0EE5JLbXWWIk"
      },
      "execution_count": null,
      "outputs": []
    },
    {
      "cell_type": "markdown",
      "source": [
        "**Homework 2 (function):**\n",
        "\n",
        "Write a function called **find_max_min** that takes a list of numbers(integers) as a  function parameter and finds the numbers with maximum and minimum value. Then returns these two numbers as a **tuple** and prints the results using tuple unpacking in the function call accorrding to the given format. Both valid and invalid numbers should be considered for finding maximum and minimum.<font color='red'>[Must use tuple packing & unpacking] </font> \n",
        "\n",
        "==========================================================\n",
        "\n",
        "**Function Call1:**\\\n",
        "find_max_min([976321, 321, 9763221, 9742, 876, 3211, 976321, 9742])\\\n",
        "**Output1:**\\\n",
        "Returned value from find_max_min() is: (9763221, 321)\\\n",
        "Number with maximum value is 9763221\\\n",
        "Number with minimum value is 321\n",
        "\n",
        "==========================================================\n",
        "\n",
        "**Function Call2:**\\\n",
        "find_max_min([97821, 1, 97210, 963, 979210, 979210])\\\n",
        "**Output2:**\\\n",
        "Returned value from find_max_min() is: (979210, 1)\\\n",
        "Number with maximum value is 979210\\\n",
        "Number with minimum value is 1"
      ],
      "metadata": {
        "id": "xEtnU8fRWP3u"
      }
    },
    {
      "cell_type": "code",
      "source": [
        ""
      ],
      "metadata": {
        "id": "cj6SCCx6WRaf"
      },
      "execution_count": null,
      "outputs": []
    },
    {
      "cell_type": "markdown",
      "source": [
        "**Homework 3 (function):**\n",
        "\n",
        "Write a function in Python that will take a string text as input from the user and returns the list of\n",
        "unique characters concatenated with their ASCII value at the front and back side.\n",
        "\n",
        "==================================================\n",
        "\n",
        "**Sample Input:**\n",
        "\n",
        "\"pythonbook\"\n",
        "\n",
        "**Function Calling:**\n",
        "\n",
        "function_name(\"pythonbook\")\n",
        "\n",
        "**Sample Output:**\n",
        "\n",
        "['112p112', '121y121', '116t116', '104h104', '111o111', '110n110', '98b98', '107k107']"
      ],
      "metadata": {
        "id": "HSxGPPlHWZcN"
      }
    },
    {
      "cell_type": "code",
      "source": [
        ""
      ],
      "metadata": {
        "id": "GoevKMueWZ--"
      },
      "execution_count": null,
      "outputs": []
    },
    {
      "cell_type": "markdown",
      "source": [
        "Default argument values"
      ],
      "metadata": {
        "id": "TTNNjRHTH9fj"
      }
    },
    {
      "cell_type": "code",
      "source": [
        "#Function's parameter list can be specified as default values for one or more arguments\n",
        "#Can be overwritten by the format \"parameter_name=value\""
      ],
      "metadata": {
        "id": "-cQRZmizH_1C"
      },
      "execution_count": null,
      "outputs": []
    },
    {
      "cell_type": "code",
      "source": [
        "def information (name='No name', id='starts with 20-22', age='age between 20-30', address='None'):\n",
        "  print('Name is:',name)\n",
        "  print('Id is:',id)\n",
        "  print('Age is:',age)\n",
        "  print('Address is:',address)\n",
        "\n",
        "information ()"
      ],
      "metadata": {
        "id": "A7BEqlchIZJW",
        "colab": {
          "base_uri": "https://localhost:8080/"
        },
        "outputId": "84437da4-9271-47bb-d6ff-bbb9294a4799"
      },
      "execution_count": null,
      "outputs": [
        {
          "output_type": "stream",
          "name": "stdout",
          "text": [
            "Name is: No name\n",
            "Id is: starts with 20-22\n",
            "Age is: age between 20-30\n",
            "Address is: None\n"
          ]
        }
      ]
    },
    {
      "cell_type": "markdown",
      "source": [
        "Return statement"
      ],
      "metadata": {
        "id": "BZv3JLMEIZcW"
      }
    },
    {
      "cell_type": "code",
      "source": [
        "#return statement let a function return a value\n",
        "#returned value replaces the function calling statement"
      ],
      "metadata": {
        "id": "R8xDO6LQIbeO"
      },
      "execution_count": null,
      "outputs": []
    },
    {
      "cell_type": "code",
      "source": [
        "def information (name, id, age, address):\n",
        "  return name,id,age,address\n",
        "\n",
        "val=information (id=22101010,name='Sam',age=22,address='Gulshan')\n",
        "print(val)\n",
        "a,b,c,d=val\n",
        "print(a)\n",
        "print(b)\n",
        "print(c)\n",
        "print(d)"
      ],
      "metadata": {
        "id": "gJXQirdbIovB",
        "colab": {
          "base_uri": "https://localhost:8080/"
        },
        "outputId": "c4560424-fdbe-4bbe-da3c-9f3937e604f0"
      },
      "execution_count": null,
      "outputs": [
        {
          "output_type": "stream",
          "name": "stdout",
          "text": [
            "('Sam', 22101010, 22, 'Gulshan')\n",
            "Sam\n",
            "22101010\n",
            "22\n",
            "Gulshan\n"
          ]
        }
      ]
    },
    {
      "cell_type": "markdown",
      "source": [
        "Pass statement"
      ],
      "metadata": {
        "id": "tpTctwJ6IpOJ"
      }
    },
    {
      "cell_type": "code",
      "source": [
        "#For avoiding error when a function definitions is empty"
      ],
      "metadata": {
        "id": "vdo-n0ypIr1e"
      },
      "execution_count": null,
      "outputs": []
    },
    {
      "cell_type": "code",
      "source": [
        "def information ():\n",
        "  pass\n",
        "  \n",
        "\n",
        "information ()\n",
        "print(\"Function executed successfully\")"
      ],
      "metadata": {
        "id": "QxOWbx-qI6bo",
        "colab": {
          "base_uri": "https://localhost:8080/"
        },
        "outputId": "fdc9f08e-15a4-4494-8b9d-39a94315da94"
      },
      "execution_count": null,
      "outputs": [
        {
          "output_type": "stream",
          "name": "stdout",
          "text": [
            "Function executed successfully\n"
          ]
        }
      ]
    },
    {
      "cell_type": "markdown",
      "source": [
        "Why function??"
      ],
      "metadata": {
        "id": "KfV7R_ivI8km"
      }
    },
    {
      "cell_type": "code",
      "source": [
        "#I think we already know by now after all the discussions"
      ],
      "metadata": {
        "id": "RLm02iwKI-X4"
      },
      "execution_count": null,
      "outputs": []
    },
    {
      "cell_type": "markdown",
      "source": [
        "Variable scoping in functions"
      ],
      "metadata": {
        "id": "vqwrofCJcHAn"
      }
    },
    {
      "cell_type": "code",
      "source": [
        "#What is variable scoping?\n",
        "def learn_scope():\n",
        "  print(\"Hello\")\n",
        "  val='local variable'\n",
        "  print(val)\n",
        "\n",
        "learn_scope()"
      ],
      "metadata": {
        "id": "cFOOdhH8cKlJ",
        "colab": {
          "base_uri": "https://localhost:8080/"
        },
        "outputId": "f315f68b-a2f4-4b81-dd42-4eeb2050268f"
      },
      "execution_count": null,
      "outputs": [
        {
          "output_type": "stream",
          "name": "stdout",
          "text": [
            "Hello\n",
            "local variable\n"
          ]
        }
      ]
    },
    {
      "cell_type": "markdown",
      "source": [
        "Accessing local and global variables"
      ],
      "metadata": {
        "id": "AZuRIkEecP2h"
      }
    },
    {
      "cell_type": "code",
      "source": [
        "#Local\n",
        "def learn_scope():\n",
        "  val='local variable'\n",
        "  print(val)\n",
        "\n",
        "learn_scope()\n",
        "# print(val)"
      ],
      "metadata": {
        "id": "VGgIkACycYzK",
        "colab": {
          "base_uri": "https://localhost:8080/"
        },
        "outputId": "6302778b-fcbc-4c06-d3b1-51c84e447db1"
      },
      "execution_count": null,
      "outputs": [
        {
          "output_type": "stream",
          "name": "stdout",
          "text": [
            "local variable\n"
          ]
        }
      ]
    },
    {
      "cell_type": "code",
      "source": [
        "#Global\n",
        "val='global variable'\n",
        "def learn_scope():\n",
        "  print(\"Hello\")\n",
        "  val='local variable'\n",
        "  print(val)\n",
        "\n",
        "learn_scope()\n",
        "print(val)"
      ],
      "metadata": {
        "id": "fpO-wRmLdABp"
      },
      "execution_count": null,
      "outputs": []
    },
    {
      "cell_type": "code",
      "source": [
        "#Global inside local\n",
        "val='global variable'\n",
        "def learn_scope():\n",
        "  print(val)\n",
        "\n",
        "learn_scope()\n",
        "print(val)"
      ],
      "metadata": {
        "id": "6m4NxApRdSq_",
        "colab": {
          "base_uri": "https://localhost:8080/"
        },
        "outputId": "5beefd15-2437-411d-ed00-cf0628af261a"
      },
      "execution_count": null,
      "outputs": [
        {
          "output_type": "stream",
          "name": "stdout",
          "text": [
            "global variable\n",
            "global variable\n"
          ]
        }
      ]
    },
    {
      "cell_type": "markdown",
      "source": [
        "Changing local and global variables"
      ],
      "metadata": {
        "id": "cJR5PYvVcZfa"
      }
    },
    {
      "cell_type": "code",
      "source": [
        "#Changing local variable\n",
        "def learn_scope():\n",
        "  val='local variable'\n",
        "  val=val+\" here\"\n",
        "  print(val)\n",
        "\n",
        "learn_scope()"
      ],
      "metadata": {
        "id": "shWgyZ-0dbNv",
        "colab": {
          "base_uri": "https://localhost:8080/"
        },
        "outputId": "6b42a337-cfd9-4f08-a795-359ce772e43b"
      },
      "execution_count": 1,
      "outputs": [
        {
          "output_type": "stream",
          "name": "stdout",
          "text": [
            "local variable here\n"
          ]
        }
      ]
    },
    {
      "cell_type": "code",
      "source": [
        "#Changing global variable from inside function\n",
        "#global keyword\n",
        "#Global inside local\n",
        "val='global variable'\n",
        "def learn_scope():\n",
        "  global val\n",
        "  val='local variable'\n",
        "  val=val+' here'\n",
        "  print(val)\n",
        "\n",
        "learn_scope()\n",
        "print(val)"
      ],
      "metadata": {
        "id": "y59Ck1qScf39",
        "colab": {
          "base_uri": "https://localhost:8080/"
        },
        "outputId": "39d8503a-81a5-4804-a4d1-e958a2f04e00"
      },
      "execution_count": null,
      "outputs": [
        {
          "output_type": "stream",
          "name": "stdout",
          "text": [
            "local variable here\n",
            "local variable here\n"
          ]
        }
      ]
    },
    {
      "cell_type": "markdown",
      "source": [
        "**Homework 4 (function):**\n",
        "\n",
        "Your job is to write a function call **unique_number()** that take tuple as input. You have to take the numbers of the tuple from user as comma seperated string, convert it to a tuple and then send it as an argument. To find unique number,\n",
        "\n",
        "**First,** take all the even numbers from the tuple and add them and store in a variable call new_number1\n",
        "\n",
        "**Secondly,** take all the odd numbers from the tuple and multiply them and store in a variable call new_number2\n",
        "\n",
        "**Thirdly,** generate the unique number by concatinating the even indexed position digits from the new_number1 with the odd indexed position digits from the new_number2.\n",
        "\n",
        "**Finally,** return the unique number and show the output as below:\n",
        "\n",
        "The unique number is: the unique number you got\n",
        "\n",
        "**Sample Input:**\n",
        "\n",
        "\"12,55,66,98,75,45,88,128\"\n",
        "\n",
        "**Function Calling:**\n",
        "\n",
        "function_name((12,55,66,98,75,45,88,128))\n",
        "\n",
        "**Sample Output:**\n",
        "\n",
        "The unique number is: 32865"
      ],
      "metadata": {
        "id": "aoZonKSCidhU"
      }
    },
    {
      "cell_type": "code",
      "source": [
        ""
      ],
      "metadata": {
        "id": "V587ol8RieNe"
      },
      "execution_count": null,
      "outputs": []
    },
    {
      "cell_type": "markdown",
      "source": [
        "**Homework 5 (function):**\n",
        "\n",
        "Write a function in Python that will take a space separated string text as input from the user and\n",
        "returns a dictionary having the unique words as the keys and their frequency in the given text as the\n",
        "values in a sorted order(ascending) according to the frequencies.\n",
        "\n",
        "==================================================\n",
        "\n",
        "\n",
        "**Hints (1):**\n",
        "Frequencies of the words can be easily counted with built-in function count().\n",
        "\n",
        "**Hints (2):**\n",
        "Sorting according to frequencies can be done in two approaches.\n",
        "\n",
        "**Approach (1):** Use the built-in sorted() function. Here, for the key, you need to call a custom-made\n",
        "function that will return frequencies for each word. So, the sorted() function will return values sorted\n",
        "according to the frequencies.\n",
        "\n",
        "**Approach (2):** Make two lists. One with the keys and other one with the frequencies. For a particular\n",
        "keys, values should be found in the same index of the frequencies list. Sort the values of frequencies and in time of swapping, swap BOTH keys &\n",
        "frequencies.\n",
        "\n",
        "==================================================\n",
        "\n",
        "**Sample Input1:**\n",
        "\n",
        "\"go there come and go here and there go care\"\n",
        "\n",
        "**Function Call1:**\n",
        "\n",
        "function_name(\"go there come and go here and there go care\")\n",
        "\n",
        "**Sample Output1:**\n",
        "\n",
        "{'come': 1, 'here': 1, 'care': 1, 'there': 2, 'and': 2, 'go': 3}\n",
        "\n",
        "=================================================="
      ],
      "metadata": {
        "id": "qsUZZqhmihqQ"
      }
    },
    {
      "cell_type": "code",
      "source": [
        ""
      ],
      "metadata": {
        "id": "MxdlllwTiisq"
      },
      "execution_count": null,
      "outputs": []
    },
    {
      "cell_type": "markdown",
      "source": [
        "**Homework 6 (function):**\n",
        "\n",
        "Please take preparation on summarizing the contents of function with example. I will randomly call 5 students to explain a certain topic covered in function. **If you can explain correctly, you will get a gift from me.**"
      ],
      "metadata": {
        "id": "-N_WQBffimU0"
      }
    },
    {
      "cell_type": "markdown",
      "source": [
        "Nested functions"
      ],
      "metadata": {
        "id": "3lyB8tc9ckSD"
      }
    },
    {
      "cell_type": "code",
      "source": [
        "#Global Outer Inner\n",
        "#non local keyword"
      ],
      "metadata": {
        "id": "MLsJPLo8dxhq"
      },
      "execution_count": null,
      "outputs": []
    },
    {
      "cell_type": "code",
      "source": [
        ""
      ],
      "metadata": {
        "id": "_STu3y8pcr-n"
      },
      "execution_count": null,
      "outputs": []
    },
    {
      "cell_type": "markdown",
      "source": [
        "Summary??"
      ],
      "metadata": {
        "id": "TSxzsdIIJIVZ"
      }
    },
    {
      "cell_type": "code",
      "source": [
        "# Yes, 5 of my randomly selected students will summarize the contents of function"
      ],
      "metadata": {
        "id": "xYe7JJAWJLNG"
      },
      "execution_count": null,
      "outputs": []
    },
    {
      "cell_type": "code",
      "source": [
        ""
      ],
      "metadata": {
        "id": "XX7qUQ1fJfsV"
      },
      "execution_count": null,
      "outputs": []
    }
  ]
}