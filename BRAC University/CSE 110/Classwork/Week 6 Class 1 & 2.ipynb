{
  "cells": [
    {
      "cell_type": "markdown",
      "metadata": {
        "id": "ywNQmjaGcLmu"
      },
      "source": [
        "List"
      ]
    },
    {
      "cell_type": "code",
      "execution_count": null,
      "metadata": {
        "colab": {
          "base_uri": "https://localhost:8080/"
        },
        "id": "Bpc2Fg3YsupH",
        "outputId": "480c206d-6780-4c91-a52e-4dfb8112a729"
      },
      "outputs": [],
      "source": [
        "list1=[1,'Jaber',12.55,True]\n",
        "print(list1)"
      ]
    },
    {
      "cell_type": "markdown",
      "metadata": {
        "id": "4y5-YuUudAY_"
      },
      "source": [
        "Creating Lists"
      ]
    },
    {
      "cell_type": "code",
      "execution_count": null,
      "metadata": {
        "id": "9OMcfDwlA_NV"
      },
      "outputs": [],
      "source": [
        "list1=[1,2,3,4,5]"
      ]
    },
    {
      "cell_type": "markdown",
      "metadata": {
        "id": "LjtjY-yYeORn"
      },
      "source": [
        "Create a list with 6 integers and then add all the integers at even index and print the summation.\n",
        "list1=[1,2,4,6,6,10]\n",
        "Output= Summation: 11"
      ]
    },
    {
      "cell_type": "markdown",
      "metadata": {
        "id": "yfIuIafbdOc1"
      },
      "source": [
        "Accessing List Elements"
      ]
    },
    {
      "cell_type": "code",
      "execution_count": null,
      "metadata": {
        "colab": {
          "base_uri": "https://localhost:8080/"
        },
        "id": "TWweKMZKsv69",
        "outputId": "fdff9e03-840f-48e0-e806-0d5a78c2ee97"
      },
      "outputs": [],
      "source": [
        "list1=[3,4,6,7,8,9,10,33]\n",
        "print(list1[5])\n",
        "print(list1[-1])\n",
        "print(list1[len(list1)-1])\n",
        "#CSE110\n"
      ]
    },
    {
      "cell_type": "markdown",
      "metadata": {
        "id": "-UluZ5idF8-6"
      },
      "source": [
        "You have a list containing 6 numbers. Your job is to find the summation of all the numbers resides at even index of the list and then substract all the odd indexed number and print the output.\n",
        "For example,\n",
        "if the list is= [2,5,6,7,9,8]\n",
        "The out will be= 2+6+9-5-7-8=-3"
      ]
    },
    {
      "cell_type": "code",
      "execution_count": null,
      "metadata": {
        "colab": {
          "base_uri": "https://localhost:8080/"
        },
        "id": "Ofpl8yJfzUzF",
        "outputId": "848e111c-84bd-499a-a630-f3c1c80f5cdf"
      },
      "outputs": [],
      "source": [
        "list1= [2,5,6,7,9,8]\n",
        "sum=0\n",
        "for index in range(0,len(list1),2):\n",
        "  sum=sum+list1[index]\n",
        "print(sum)"
      ]
    },
    {
      "cell_type": "code",
      "execution_count": null,
      "metadata": {
        "colab": {
          "base_uri": "https://localhost:8080/"
        },
        "id": "ZQlUreT71yD_",
        "outputId": "5af0f389-df6f-429c-b17d-046f882567fc"
      },
      "outputs": [],
      "source": [
        "list1= [2,5,6,7,9,8]\n",
        "sum=0\n",
        "for index in list1:\n",
        "  print(index)\n",
        "  sum=sum+index\n",
        "print(sum)"
      ]
    },
    {
      "cell_type": "code",
      "execution_count": null,
      "metadata": {
        "colab": {
          "base_uri": "https://localhost:8080/"
        },
        "id": "RdCzoSu-2JZ3",
        "outputId": "9cba63f7-3e82-40ba-9801-3c1d2ea01926"
      },
      "outputs": [],
      "source": [
        "list1= [2,5,6,7,9,8]\n",
        "sum=0\n",
        "for index in range(len(list1)):\n",
        "  if (index%2==0):\n",
        "    sum=sum+list1[index]\n",
        "print(sum)"
      ]
    },
    {
      "cell_type": "code",
      "execution_count": null,
      "metadata": {
        "colab": {
          "base_uri": "https://localhost:8080/"
        },
        "id": "Yd0z3MN32YLC",
        "outputId": "506cce8f-a643-4beb-9c45-7fc64bfda420"
      },
      "outputs": [],
      "source": [
        "list1= [2,5,6,7,9,8]\n",
        "sum=0\n",
        "counter=0\n",
        "while counter<len(list1):\n",
        "  if(counter%2==0):\n",
        "    sum=sum+list1[counter]\n",
        "  counter+=1\n",
        "print(sum)"
      ]
    },
    {
      "cell_type": "code",
      "execution_count": null,
      "metadata": {
        "colab": {
          "base_uri": "https://localhost:8080/"
        },
        "id": "h2ggVovw26ch",
        "outputId": "af60a8d2-15c5-4d8e-cb0c-018db13e9e1e"
      },
      "outputs": [],
      "source": [
        "list1= [2,5,6,7,9,8]\n",
        "sum=0\n",
        "counter=0\n",
        "while counter<len(list1):\n",
        "  sum=sum+list1[counter]\n",
        "  counter+=2\n",
        "print(sum)"
      ]
    },
    {
      "cell_type": "code",
      "execution_count": null,
      "metadata": {
        "colab": {
          "base_uri": "https://localhost:8080/"
        },
        "id": "bZ6sHVuN6d37",
        "outputId": "db8a1ef0-64e6-4e22-dc63-1e4cab2f1949"
      },
      "outputs": [],
      "source": [
        "list1= [2,5,6,7,9,8]\n",
        "sum=0\n",
        "for index in range(0,len(list1),2):\n",
        "  sum=sum+list1[index]\n",
        "for index in range(1,len(list1),2):\n",
        "  sum=sum-list1[index]\n",
        "print(sum)"
      ]
    },
    {
      "cell_type": "code",
      "execution_count": null,
      "metadata": {
        "colab": {
          "base_uri": "https://localhost:8080/"
        },
        "id": "RGdmOvo77DHG",
        "outputId": "afe18c90-b0f8-44e0-8289-119de5df2763"
      },
      "outputs": [],
      "source": [
        "list1= [2,5,6,7,9,8]\n",
        "sum=0\n",
        "for index in range(len(list1)):\n",
        "  if (index%2==0):\n",
        "    sum=sum+list1[index]\n",
        "  else:\n",
        "    sum=sum-list1[index]\n",
        "print(sum)"
      ]
    },
    {
      "cell_type": "code",
      "execution_count": null,
      "metadata": {
        "colab": {
          "base_uri": "https://localhost:8080/"
        },
        "id": "cQ3jc9647Q4m",
        "outputId": "ed559c81-2025-4f9f-9ceb-dfa51ce95acc"
      },
      "outputs": [],
      "source": [
        "list1= [2,5,6,7,9,8,22]\n",
        "sum=0\n",
        "for index in range(0,len(list1),2):\n",
        "  sum=sum+list1[index]\n",
        "  if (index+1!=len(list1)):\n",
        "   sum=sum-list1[index+1]\n",
        "print(sum)"
      ]
    },
    {
      "cell_type": "code",
      "execution_count": null,
      "metadata": {
        "colab": {
          "base_uri": "https://localhost:8080/"
        },
        "id": "emGeLYZD8wV-",
        "outputId": "9eac7add-474c-44e1-f738-ffabc448ae2e"
      },
      "outputs": [],
      "source": [
        "list1= [2,5,6,7,9,8]\n",
        "sum=0\n",
        "counter=0\n",
        "while counter<len(list1):\n",
        "  if(counter%2==0):\n",
        "    sum=sum+list1[counter]\n",
        "  else:\n",
        "    sum=sum-list1[counter]\n",
        "  counter+=1\n",
        "print(sum)"
      ]
    },
    {
      "cell_type": "markdown",
      "metadata": {
        "id": "s420efTkpWm5"
      },
      "source": [
        "**Homework:**\n",
        "\n",
        "Take two lists with 5 numbers.\n",
        "1. Add all the even numbers from both the lists\n",
        "2. Multiply all the odd numbers from both the lists\n",
        "3. Add all the even indexed numbers from list1 wiht odd indexed numbers from list2\n",
        "list1=[1,2,3,4]\n",
        "list2=[4,5,9,8]\n",
        "1. 18\n",
        "2. 135\n",
        "3. 17"
      ]
    },
    {
      "cell_type": "markdown",
      "metadata": {
        "id": "ROHd4vqkddRH"
      },
      "source": [
        "List Mutability"
      ]
    },
    {
      "cell_type": "code",
      "execution_count": null,
      "metadata": {
        "colab": {
          "base_uri": "https://localhost:8080/"
        },
        "id": "GU5JAWrJZh8t",
        "outputId": "8e711720-779c-4329-bf85-bf421474cb81"
      },
      "outputs": [],
      "source": [
        "list1=[1,2,3,4,7,8,7,88,100]\n",
        "list1[4]=5\n",
        "print(list1)"
      ]
    },
    {
      "cell_type": "markdown",
      "metadata": {
        "id": "sRYNiSSidjMe"
      },
      "source": [
        "Adding Elements"
      ]
    },
    {
      "cell_type": "code",
      "execution_count": null,
      "metadata": {
        "colab": {
          "base_uri": "https://localhost:8080/"
        },
        "id": "hJxljOpuZiw8",
        "outputId": "5859f8e8-d795-465f-cf13-fb84eedbe07d"
      },
      "outputs": [],
      "source": [
        "#append()\n",
        "list1=[1,2,3,4,7,8,7,88,100]\n",
        "list1.append('CSE110')\n",
        "print(list1)"
      ]
    },
    {
      "cell_type": "code",
      "execution_count": null,
      "metadata": {
        "colab": {
          "base_uri": "https://localhost:8080/"
        },
        "id": "F7WoZjJlZg7U",
        "outputId": "1c6de98b-9d29-419b-c82f-7de5df846bb6"
      },
      "outputs": [],
      "source": [
        "#extend(list)\n",
        "list1=[1,2,3,4,7,8,7,88,100]\n",
        "list1.extend([200,300,400])\n",
        "print(list1)"
      ]
    },
    {
      "cell_type": "code",
      "execution_count": null,
      "metadata": {
        "colab": {
          "base_uri": "https://localhost:8080/"
        },
        "id": "elEgqcnbA00L",
        "outputId": "fb310fcf-38a5-4290-e79f-8a85f7d1bd41"
      },
      "outputs": [],
      "source": [
        "#insert(location[index],elemet)\n",
        "list1=[1,2,3,4,7,8,7,88,100]\n",
        "list1.insert(5,9)\n",
        "print(list1)"
      ]
    },
    {
      "cell_type": "markdown",
      "metadata": {
        "id": "CM_M0VYwBWY7"
      },
      "source": [
        "Deleting Elements"
      ]
    },
    {
      "cell_type": "code",
      "execution_count": null,
      "metadata": {
        "colab": {
          "base_uri": "https://localhost:8080/"
        },
        "id": "OiQrCJkVBZAb",
        "outputId": "e19ea257-d98c-4e8b-8a52-5c634ef42325"
      },
      "outputs": [],
      "source": [
        "#pop()\n",
        "#pop(index)\n",
        "list1=[1,2,3,4,7,8,7,88,100]\n",
        "list1.pop()\n",
        "print(list1)\n",
        "list1.pop(-1)\n",
        "print(list1)"
      ]
    },
    {
      "cell_type": "code",
      "execution_count": null,
      "metadata": {
        "colab": {
          "base_uri": "https://localhost:8080/"
        },
        "id": "-Uyg_B1xCluL",
        "outputId": "a1fb397e-ee64-4933-b2f3-c534229565ec"
      },
      "outputs": [],
      "source": [
        "#remove(elem/value)\n",
        "list1=[1,2,3,4,7,8,7,88,100]\n",
        "list1.remove(8)\n",
        "print(list1)"
      ]
    },
    {
      "cell_type": "code",
      "execution_count": null,
      "metadata": {
        "colab": {
          "base_uri": "https://localhost:8080/"
        },
        "id": "Xjd5LeBzDVZz",
        "outputId": "1c3c4e09-3a1b-4b90-e27c-1fd47d7f4496"
      },
      "outputs": [],
      "source": [
        "#clear()\n",
        "list1=[1,2,3,4,7,8,7,88,100]\n",
        "list1.clear()\n",
        "print(list1)"
      ]
    },
    {
      "cell_type": "code",
      "execution_count": null,
      "metadata": {
        "colab": {
          "base_uri": "https://localhost:8080/",
          "height": 217
        },
        "id": "SL9IiuJnDuz0",
        "outputId": "91371f77-e93b-43df-b346-3cbf7ec5af2a"
      },
      "outputs": [],
      "source": [
        "#del\n",
        "list1=[1,2,3,4,7,8,7,88,100]\n",
        "del list1[7]\n",
        "print(list1)\n",
        "del list1\n",
        "print(list1)"
      ]
    },
    {
      "cell_type": "code",
      "execution_count": null,
      "metadata": {
        "colab": {
          "base_uri": "https://localhost:8080/"
        },
        "id": "kpDX0fTDDOfU",
        "outputId": "30078817-8d0e-46d7-f035-eff6f7376d0e"
      },
      "outputs": [],
      "source": [
        "dir([])"
      ]
    },
    {
      "cell_type": "markdown",
      "metadata": {
        "id": "u5WORYPPgdMd"
      },
      "source": [
        "More functions of list"
      ]
    },
    {
      "cell_type": "code",
      "execution_count": null,
      "metadata": {
        "colab": {
          "base_uri": "https://localhost:8080/"
        },
        "id": "9QYZQQChZqWE",
        "outputId": "8b0e9879-cb73-40bc-d08a-2a77ff5774f1"
      },
      "outputs": [],
      "source": [
        "#count(element)\n",
        "list1=[1,2,3,4,7,8,7,88,100]\n",
        "print(list1.count(7))"
      ]
    },
    {
      "cell_type": "code",
      "execution_count": null,
      "metadata": {
        "colab": {
          "base_uri": "https://localhost:8080/"
        },
        "id": "fE5OEdFLFgBM",
        "outputId": "e614d05b-f078-4df3-b3b8-588320ea712a"
      },
      "outputs": [],
      "source": [
        "#sort()\n",
        "list1=[1,2,3,4,7,8,7,88,100]\n",
        "list1.sort()\n",
        "print(list1)"
      ]
    },
    {
      "cell_type": "code",
      "execution_count": null,
      "metadata": {
        "colab": {
          "base_uri": "https://localhost:8080/",
          "height": 217
        },
        "id": "Ql6_pCvlFqry",
        "outputId": "9d384a01-c8a5-4c73-80aa-235e758b7b8b"
      },
      "outputs": [],
      "source": [
        "#sort()\n",
        "list1=[1,2,3,4.3,7,8,7.4,88,100]\n",
        "list1.sort(reverse=True)\n",
        "print(list1)"
      ]
    },
    {
      "cell_type": "code",
      "execution_count": null,
      "metadata": {
        "colab": {
          "base_uri": "https://localhost:8080/"
        },
        "id": "U4vgNObgF7eX",
        "outputId": "f5689b8f-9586-4633-f34e-74cce2604ffd"
      },
      "outputs": [],
      "source": [
        "#sort()\n",
        "list1=['good','glad','cse110','jii']\n",
        "list1.sort()\n",
        "print(list1)"
      ]
    },
    {
      "cell_type": "code",
      "execution_count": null,
      "metadata": {
        "colab": {
          "base_uri": "https://localhost:8080/"
        },
        "id": "GGubV4TXGrAR",
        "outputId": "d86f65b2-ead9-4003-88c2-82418d15ebab"
      },
      "outputs": [],
      "source": [
        "#reverse\n",
        "list1=[1,2,3,4.3,7,8,7.4,88,100]\n",
        "list1.reverse()\n",
        "print(list1)"
      ]
    },
    {
      "cell_type": "markdown",
      "metadata": {
        "id": "a3VACYj--lzg"
      },
      "source": [
        "**Homework 1:**\n",
        "\n",
        "Suppose you have a string. Your job is to find if the particular string has any \"E\" or 'e' in it. if the string has these character then print the index numbers that contain these character.\n",
        "Example:\n",
        "Sample input: 'Bleh Bleh Bleck shEEp'\n",
        "Sample output: [2,7,12,17,18]"
      ]
    },
    {
      "cell_type": "code",
      "execution_count": null,
      "metadata": {
        "colab": {
          "base_uri": "https://localhost:8080/"
        },
        "id": "Oc57TQhx-uzG",
        "outputId": "890a6d57-1f7f-41ac-ea70-c76740aa97d4"
      },
      "outputs": [],
      "source": [
        "#index(elem,[start,end])\n",
        "list1=[1,2,3,4.3,7,8,7,88,100]\n",
        "val=list1.index(7,5,len(list1))\n",
        "print(val)"
      ]
    },
    {
      "cell_type": "markdown",
      "metadata": {
        "id": "eyaBTBiW-sy_"
      },
      "source": [
        "list1=[1,2,4,6,6,10,6,3,4,5,67,10]\n",
        "find the index of 67 without using any built in function"
      ]
    },
    {
      "cell_type": "code",
      "execution_count": null,
      "metadata": {
        "colab": {
          "base_uri": "https://localhost:8080/"
        },
        "id": "g332vYwSKcZE",
        "outputId": "8475871a-e42f-4f26-bb3b-9a755bf5ad20"
      },
      "outputs": [],
      "source": [
        "list1=[1,2,4,6,6,10,6,3,4,5,67,10]\n",
        "val=0\n",
        "for index in range(len(list1)):\n",
        "  if list1[index]==67:\n",
        "    val=index\n",
        "    break\n",
        "print(val)"
      ]
    },
    {
      "cell_type": "markdown",
      "metadata": {
        "id": "Vo1GwcgKgkMZ"
      },
      "source": [
        "Basic List Operations"
      ]
    },
    {
      "cell_type": "code",
      "execution_count": null,
      "metadata": {
        "colab": {
          "base_uri": "https://localhost:8080/"
        },
        "id": "DMn69CC3ZvoM",
        "outputId": "7bb8fe69-1387-4ecb-f306-be5e964973e0"
      },
      "outputs": [],
      "source": [
        "#+\n",
        "list1=[1,2,4,6,6,10,6,3,4,5,67,10]\n",
        "list2=[2,3,4]\n",
        "print(list1+list2)"
      ]
    },
    {
      "cell_type": "code",
      "execution_count": null,
      "metadata": {
        "colab": {
          "base_uri": "https://localhost:8080/"
        },
        "id": "sNyKZ8XfM1U-",
        "outputId": "3246d6b7-7090-461a-a85c-74a8239f2a6d"
      },
      "outputs": [],
      "source": [
        "list2=[2,3,4]\n",
        "print(list2*4)"
      ]
    },
    {
      "cell_type": "code",
      "execution_count": null,
      "metadata": {
        "colab": {
          "base_uri": "https://localhost:8080/"
        },
        "id": "BuszzuJMNCNG",
        "outputId": "d51b75c5-6c93-4bb5-f255-47be04237b62"
      },
      "outputs": [],
      "source": [
        "list1=[1,2,4,6,6,10,6,3,4,5,67,10]\n",
        "print(67 in list1)"
      ]
    },
    {
      "cell_type": "markdown",
      "metadata": {
        "id": "NkjQrOyog13Z"
      },
      "source": [
        "List slicing"
      ]
    },
    {
      "cell_type": "markdown",
      "metadata": {
        "id": "HgQwa_tue1pk"
      },
      "source": [
        "**Homework 2:**\n",
        "\n",
        "Suppose you have the following list:\n",
        "list1= [2,7,12,17,18,88,58,7,89,78,74,55,33,57].\n",
        "Your job is to make two seperate lists by following the below conditions:\n",
        "* List one will have only the even indexed numbers from the original list\n",
        "* List two will have only the odd indexed numberes from the original list\n",
        "\n",
        "Next, Add new list one's first element with new list two's last element, new list one's second element with new list two's second last element and so on.\n",
        "\n",
        "Print both new lists and the list created from the new lists.\n",
        "\n",
        "The output would be:\n",
        "\n",
        "New list one: \n",
        "[2,12,18,58,89,74,33]\n",
        "\n",
        "New list two: \n",
        "[7,17,88,7,78,55,57]\n",
        "\n",
        "The final list: \n",
        "[59,67,96,65,177,91,40]"
      ]
    },
    {
      "cell_type": "code",
      "execution_count": null,
      "metadata": {
        "id": "dJQYCd9qZ0ms"
      },
      "outputs": [],
      "source": []
    },
    {
      "cell_type": "markdown",
      "metadata": {
        "id": "QyxYOADbZ2gk"
      },
      "source": [
        "Some built in functions"
      ]
    },
    {
      "cell_type": "code",
      "execution_count": null,
      "metadata": {
        "colab": {
          "base_uri": "https://localhost:8080/"
        },
        "id": "DkykMtimZ41s",
        "outputId": "bc4e7081-84b8-4f84-9034-94a6f67d4166"
      },
      "outputs": [],
      "source": [
        "#sum\n",
        "#max\n",
        "#min\n",
        "list1=[1,2,4,6,6,10,6,3,4,5,67,10]\n",
        "print(sum(list1))\n",
        "print(max(list1))\n",
        "print(min(list1))"
      ]
    },
    {
      "cell_type": "code",
      "execution_count": null,
      "metadata": {
        "colab": {
          "base_uri": "https://localhost:8080/"
        },
        "id": "2Lf_AHTeOmLr",
        "outputId": "93ff9960-8224-4f56-8881-641569bba40b"
      },
      "outputs": [],
      "source": [
        "list1=[1,2,4,6,6,10,6,3,4,5,67,10]\n",
        "max=list1[0]\n",
        "min=list1[0]\n",
        "for index in range (1,len(list1),1):\n",
        "  if(list1[index]>max):\n",
        "    max=list1[index]\n",
        "  if(list1[index]<min):\n",
        "    min=list1[index]\n",
        "print(max)\n",
        "print(min)"
      ]
    }
  ],
  "metadata": {
    "colab": {
      "collapsed_sections": [],
      "name": "CSE110_Section-30_Week-6_Class-1 & 2.ipynb",
      "provenance": []
    },
    "kernelspec": {
      "display_name": "Python 3",
      "name": "python3"
    },
    "language_info": {
      "name": "python"
    }
  },
  "nbformat": 4,
  "nbformat_minor": 0
}
